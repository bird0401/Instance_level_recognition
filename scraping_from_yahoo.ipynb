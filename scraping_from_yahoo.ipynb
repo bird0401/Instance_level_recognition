{
  "nbformat": 4,
  "nbformat_minor": 0,
  "metadata": {
    "colab": {
      "name": "scraping_from_yahoo.ipynb",
      "provenance": [],
      "collapsed_sections": [],
      "authorship_tag": "ABX9TyNOV4KrIdVFwyPQ18DmmnKY",
      "include_colab_link": true
    },
    "kernelspec": {
      "name": "python3",
      "display_name": "Python 3"
    },
    "language_info": {
      "name": "python"
    }
  },
  "cells": [
    {
      "cell_type": "markdown",
      "metadata": {
        "id": "view-in-github",
        "colab_type": "text"
      },
      "source": [
        "<a href=\"https://colab.research.google.com/github/bird0401/Instance_level_recognition/blob/main/scraping_from_yahoo.ipynb\" target=\"_parent\"><img src=\"https://colab.research.google.com/assets/colab-badge.svg\" alt=\"Open In Colab\"/></a>"
      ]
    },
    {
      "cell_type": "code",
      "execution_count": null,
      "metadata": {
        "colab": {
          "base_uri": "https://localhost:8080/"
        },
        "id": "zTIlxRRFvQZu",
        "outputId": "27afe8a1-29de-474e-f298-8640884436f0"
      },
      "outputs": [
        {
          "output_type": "stream",
          "name": "stdout",
          "text": [
            "Cloning into 'Instance_level_recognition'...\n",
            "remote: Enumerating objects: 193, done.\u001b[K\n",
            "remote: Counting objects: 100% (66/66), done.\u001b[K\n",
            "remote: Compressing objects: 100% (58/58), done.\u001b[K\n",
            "remote: Total 193 (delta 38), reused 11 (delta 8), pack-reused 127\u001b[K\n",
            "Receiving objects: 100% (193/193), 282.34 KiB | 11.29 MiB/s, done.\n",
            "Resolving deltas: 100% (92/92), done.\n"
          ]
        }
      ],
      "source": [
        "!git clone https://github.com/bird0401/Instance_level_recognition.git"
      ]
    },
    {
      "cell_type": "code",
      "source": [
        "%cd Instance_level_recognition"
      ],
      "metadata": {
        "colab": {
          "base_uri": "https://localhost:8080/"
        },
        "id": "Cp4XjPUQvXp6",
        "outputId": "a3a96e15-00d1-4ca0-c749-ad61de84e95d"
      },
      "execution_count": null,
      "outputs": [
        {
          "output_type": "stream",
          "name": "stdout",
          "text": [
            "/content/Instance_level_recognition\n"
          ]
        }
      ]
    },
    {
      "cell_type": "code",
      "source": [
        "ls"
      ],
      "metadata": {
        "colab": {
          "base_uri": "https://localhost:8080/"
        },
        "id": "IpCz-ITPvbG7",
        "outputId": "962ffe83-2bb2-475b-a13b-e0c0bde15955"
      },
      "execution_count": null,
      "outputs": [
        {
          "output_type": "stream",
          "name": "stdout",
          "text": [
            "01_data_download.ipynb        db_en_dogs_query.rq    start_build.sh\n",
            "01_data_download_tower.ipynb  db_ja_dogs_query.rq    start_docker.sh\n",
            "02_resnet_car2.ipynb          \u001b[0m\u001b[01;34mdocker-python\u001b[0m/         start_git.sh\n",
            "02_resnet_car.ipynb           finetuned_model.ipynb  test.py\n",
            "02_resnet_dog.ipynb           kg_request.py          wd_en_dogs_query.rq\n",
            "02_resnet.ipynb               README.md\n",
            "02_resnet_pred.ipynb          reference.md\n"
          ]
        }
      ]
    },
    {
      "cell_type": "code",
      "source": [
        "import requests\n",
        "from bs4 import BeautifulSoup"
      ],
      "metadata": {
        "id": "E0kosO6pvd7s"
      },
      "execution_count": null,
      "outputs": []
    },
    {
      "cell_type": "code",
      "source": [
        "url = 'https://www.yomiuri.co.jp'\n",
        "res = requests.get(url)"
      ],
      "metadata": {
        "id": "1LMgOcObvmyv"
      },
      "execution_count": null,
      "outputs": []
    },
    {
      "cell_type": "code",
      "source": [
        "res.text[:100]"
      ],
      "metadata": {
        "colab": {
          "base_uri": "https://localhost:8080/",
          "height": 35
        },
        "id": "g1bVj-O_vkxz",
        "outputId": "37120cf7-7175-4b6a-9a25-4750b55030a6"
      },
      "execution_count": 57,
      "outputs": [
        {
          "output_type": "execute_result",
          "data": {
            "text/plain": [
              "'<!DOCTYPE html><html lang=\"ja\"><head><meta charSet=\"utf-8\"/><meta http-equiv=\"X-UA-Compatible\" conte'"
            ],
            "application/vnd.google.colaboratory.intrinsic+json": {
              "type": "string"
            }
          },
          "metadata": {},
          "execution_count": 57
        }
      ]
    },
    {
      "cell_type": "code",
      "source": [
        "soup = BeautifulSoup(res.text, \"html.parser\")"
      ],
      "metadata": {
        "id": "tmiImSFBztTm"
      },
      "execution_count": null,
      "outputs": []
    },
    {
      "cell_type": "code",
      "source": [
        "elems = soup.select('body > div.home-2021-primary > div.home-2021-primary__main > div.headline > article:nth-of-type(1) > div > h3 > a')"
      ],
      "metadata": {
        "id": "b4M7WEp9vrs1"
      },
      "execution_count": null,
      "outputs": []
    },
    {
      "cell_type": "code",
      "source": [
        "elems"
      ],
      "metadata": {
        "colab": {
          "base_uri": "https://localhost:8080/"
        },
        "id": "Knf9Z9AGzfKj",
        "outputId": "0b05a352-2d78-49e9-8b00-02b2f6984b77"
      },
      "execution_count": null,
      "outputs": [
        {
          "output_type": "execute_result",
          "data": {
            "text/plain": [
              "[<a href=\"https://www.yomiuri.co.jp/national/20220707-OYT1T50354/\">国内のコロナ感染４万７９７７人、１週間前から倍増…全都道府県で増加「第７波に入った」</a>]"
            ]
          },
          "metadata": {},
          "execution_count": 10
        }
      ]
    },
    {
      "cell_type": "code",
      "source": [
        "elems[0]"
      ],
      "metadata": {
        "colab": {
          "base_uri": "https://localhost:8080/"
        },
        "id": "-hEd5GYU0IPb",
        "outputId": "50dbeabf-ed29-4455-b5ab-dbe853827890"
      },
      "execution_count": null,
      "outputs": [
        {
          "output_type": "execute_result",
          "data": {
            "text/plain": [
              "<a href=\"https://www.yomiuri.co.jp/national/20220707-OYT1T50354/\">国内のコロナ感染４万７９７７人、１週間前から倍増…全都道府県で増加「第７波に入った」</a>"
            ]
          },
          "metadata": {},
          "execution_count": 11
        }
      ]
    },
    {
      "cell_type": "code",
      "source": [
        "elems[0].contents[0]"
      ],
      "metadata": {
        "colab": {
          "base_uri": "https://localhost:8080/",
          "height": 35
        },
        "id": "FdflQKTj0MP_",
        "outputId": "79b99c85-e0a0-4266-a754-062af2cc70c6"
      },
      "execution_count": null,
      "outputs": [
        {
          "output_type": "execute_result",
          "data": {
            "text/plain": [
              "'国内のコロナ感染４万７９７７人、１週間前から倍増…全都道府県で増加「第７波に入った」'"
            ],
            "application/vnd.google.colaboratory.intrinsic+json": {
              "type": "string"
            }
          },
          "metadata": {},
          "execution_count": 12
        }
      ]
    },
    {
      "cell_type": "code",
      "source": [
        "elems[0].attrs['href']"
      ],
      "metadata": {
        "colab": {
          "base_uri": "https://localhost:8080/",
          "height": 35
        },
        "id": "sxWb6SS30Smd",
        "outputId": "b2fa34a1-b870-41b2-c221-d57a06340ebd"
      },
      "execution_count": null,
      "outputs": [
        {
          "output_type": "execute_result",
          "data": {
            "text/plain": [
              "'https://www.yomiuri.co.jp/national/20220707-OYT1T50354/'"
            ],
            "application/vnd.google.colaboratory.intrinsic+json": {
              "type": "string"
            }
          },
          "metadata": {},
          "execution_count": 13
        }
      ]
    },
    {
      "cell_type": "code",
      "source": [
        "url = 'https://www.yahoo.co.jp/'\n",
        "res = requests.get(url)\n",
        "soup = BeautifulSoup(res.text, \"html.parser\")"
      ],
      "metadata": {
        "id": "6KNcStYJ0ZRW"
      },
      "execution_count": null,
      "outputs": []
    },
    {
      "cell_type": "code",
      "source": [
        "soup.find_all('a')"
      ],
      "metadata": {
        "colab": {
          "base_uri": "https://localhost:8080/"
        },
        "id": "k66ammFc1bw-",
        "outputId": "82d0115c-f304-441c-d27b-f0709b94213b"
      },
      "execution_count": null,
      "outputs": [
        {
          "output_type": "execute_result",
          "data": {
            "text/plain": [
              "[<a class=\"yMWCYupQNdgppL-NV6sMi _3sAlKGsIBCxTUbNi86oSjt\" data-cl-params=\"_cl_vmodule:header;_cl_link:logo;_cl_position:0\" data-ylk=\"rsec:header;slk:logo;pos:0\" href=\"https://www.yahoo.co.jp\">Yahoo! JAPAN</a>,\n",
              " <a aria-label=\"PayPay STEPへ遷移する\" class=\"yMWCYupQNdgppL-NV6sMi _3sAlKGsIBCxTUbNi86oSjt\" data-cl-params=\"_cl_vmodule:header;_cl_link:paypaystep;_cl_position:0\" data-ylk=\"rsec:header;slk:paypaystep;pos:0\" href=\"https://paypaystep.yahoo.co.jp/?sc_e=ytmh_p2c_web\"><p class=\"oLvk9L5Yk-9JOuzi-OHW5\"><span class=\"t_jb9bKlgIcajcRS2hZAP\">PayPay STEP</span><span class=\"_2Uq6Pw5lfFfxr_OD36xHp6 _1dr5aVDbNPF63JCS2bJhij _18UPg6R6cxJSC9JHKF8juc\" style=\"width:38px;height:38px\"></span></p></a>,\n",
              " <a aria-label=\"カードへ遷移する\" class=\"yMWCYupQNdgppL-NV6sMi _3sAlKGsIBCxTUbNi86oSjt\" data-cl-params=\"_cl_vmodule:header;_cl_link:paypaycard;_cl_position:0\" data-ylk=\"rsec:header;slk:paypaycard;pos:0\" href=\"https://card.yahoo.co.jp/service/redirect/top/\"><p class=\"oLvk9L5Yk-9JOuzi-OHW5\"><span class=\"t_jb9bKlgIcajcRS2hZAP\">カード</span><span class=\"_2Uq6Pw5lfFfxr_OD36xHp6 _1dr5aVDbNPF63JCS2bJhij P1WzQfoRll3q8GIGneUYg\" style=\"width:36px;height:38px\"></span></p></a>,\n",
              " <a aria-label=\"メールへ遷移する\" class=\"yMWCYupQNdgppL-NV6sMi _3sAlKGsIBCxTUbNi86oSjt\" data-cl-params=\"_cl_vmodule:header;_cl_link:mail;_cl_position:0\" data-ylk=\"rsec:header;slk:mail;pos:0\" href=\"https://mail.yahoo.co.jp/\"><p class=\"oLvk9L5Yk-9JOuzi-OHW5\"><span class=\"t_jb9bKlgIcajcRS2hZAP\">メール</span><span class=\"_2Uq6Pw5lfFfxr_OD36xHp6 _1dr5aVDbNPF63JCS2bJhij _3Qi5P0lTFbNkWishPzz8tb\" style=\"width:36px;height:38px\"></span></p></a>,\n",
              " <a aria-label=\"トラベルへ遷移する\" class=\"yMWCYupQNdgppL-NV6sMi _3sAlKGsIBCxTUbNi86oSjt\" data-cl-params=\"_cl_vmodule:header;_cl_link:travel;_cl_position:0\" data-ylk=\"rsec:header;slk:travel;pos:0\" href=\"https://travel.yahoo.co.jp/ikCo.ashx?cosid=y_010017&amp;cosuid=ytmh&amp;surl=%2F&amp;sc_e=ytmh\"><p class=\"oLvk9L5Yk-9JOuzi-OHW5\"><span class=\"t_jb9bKlgIcajcRS2hZAP\">トラベル</span><span class=\"_2Uq6Pw5lfFfxr_OD36xHp6 _1dr5aVDbNPF63JCS2bJhij _1yEKxUFSw-Xv2gaBZsYRuI\" style=\"width:38px;height:38px\"></span></p></a>,\n",
              " <a aria-label=\"ヤフオク!へ遷移する\" class=\"yMWCYupQNdgppL-NV6sMi _3sAlKGsIBCxTUbNi86oSjt\" data-cl-params=\"_cl_vmodule:header;_cl_link:auction;_cl_position:0\" data-ylk=\"rsec:header;slk:auction;pos:0\" href=\"https://auctions.yahoo.co.jp/\"><p class=\"oLvk9L5Yk-9JOuzi-OHW5\"><span class=\"t_jb9bKlgIcajcRS2hZAP\">ヤフオク!</span><span class=\"_2Uq6Pw5lfFfxr_OD36xHp6 _1dr5aVDbNPF63JCS2bJhij _1K47f2oTmrnpusFOpVVqfY\" style=\"width:38px;height:38px\"></span></p></a>,\n",
              " <a aria-label=\"ショッピングへ遷移する\" class=\"yMWCYupQNdgppL-NV6sMi _3sAlKGsIBCxTUbNi86oSjt\" data-cl-params=\"_cl_vmodule:header;_cl_link:shopping;_cl_position:0\" data-ylk=\"rsec:header;slk:shopping;pos:0\" href=\"https://shopping.yahoo.co.jp/?sc_e=ytmh\"><p class=\"oLvk9L5Yk-9JOuzi-OHW5\"><span class=\"t_jb9bKlgIcajcRS2hZAP\">ショッピング</span><span class=\"_2Uq6Pw5lfFfxr_OD36xHp6 _1dr5aVDbNPF63JCS2bJhij MOLSPrtOUmdnYy_LgNt2f\" style=\"width:38px;height:38px\"></span></p></a>,\n",
              " <a aria-label=\"ウェブで検索\" class=\"y9H1Sj9hz4OlEq2_aEt5E\" data-cl-params=\"_cl_vmodule:search;_cl_link:web_tab;_cl_position:0\" data-ylk=\"rsec:search;slk:web_tab;pos:0\" href=\"https://search.yahoo.co.jp/\" tabindex=\"-1\"><span class=\"fQMqQTGJTbIMxjQwZA2zk _3tGRl6x9iIWRiFTkKl3kcR\"><span class=\"_1uQvvM7M_K0hc4e29lRa8 _2B_ETzo6nh1JNMLebSi_2p\">ウェブ</span></span></a>,\n",
              " <a aria-label=\"画像で検索\" class=\"y9H1Sj9hz4OlEq2_aEt5E\" data-cl-params=\"_cl_vmodule:search;_cl_link:img;_cl_position:0\" data-ylk=\"rsec:search;slk:img;pos:0\" href=\"https://search.yahoo.co.jp/image\" tabindex=\"-1\"><span class=\"fQMqQTGJTbIMxjQwZA2zk _3tGRl6x9iIWRiFTkKl3kcR\"><span class=\"_1uQvvM7M_K0hc4e29lRa8\">画像</span></span></a>,\n",
              " <a aria-label=\"動画で検索\" class=\"y9H1Sj9hz4OlEq2_aEt5E\" data-cl-params=\"_cl_vmodule:search;_cl_link:vd;_cl_position:0\" data-ylk=\"rsec:search;slk:vd;pos:0\" href=\"https://search.yahoo.co.jp/video\" tabindex=\"-1\"><span class=\"fQMqQTGJTbIMxjQwZA2zk _3tGRl6x9iIWRiFTkKl3kcR\"><span class=\"_1uQvvM7M_K0hc4e29lRa8\">動画</span></span></a>,\n",
              " <a aria-label=\"知恵袋で検索\" class=\"y9H1Sj9hz4OlEq2_aEt5E\" data-cl-params=\"_cl_vmodule:search;_cl_link:chie;_cl_position:0\" data-ylk=\"rsec:search;slk:chie;pos:0\" href=\"https://chiebukuro.yahoo.co.jp/\" tabindex=\"-1\"><span class=\"fQMqQTGJTbIMxjQwZA2zk _3tGRl6x9iIWRiFTkKl3kcR\"><span class=\"_1uQvvM7M_K0hc4e29lRa8\">知恵袋</span></span></a>,\n",
              " <a aria-label=\"地図で検索\" class=\"y9H1Sj9hz4OlEq2_aEt5E\" data-cl-params=\"_cl_vmodule:search;_cl_link:map;_cl_position:0\" data-ylk=\"rsec:search;slk:map;pos:0\" href=\"https://map.yahoo.co.jp/\" tabindex=\"-1\"><span class=\"fQMqQTGJTbIMxjQwZA2zk _3tGRl6x9iIWRiFTkKl3kcR\"><span class=\"_1uQvvM7M_K0hc4e29lRa8\">地図</span></span></a>,\n",
              " <a aria-label=\"リアルタイムで検索\" class=\"y9H1Sj9hz4OlEq2_aEt5E\" data-cl-params=\"_cl_vmodule:search;_cl_link:realtime;_cl_position:0\" data-ylk=\"rsec:search;slk:realtime;pos:0\" href=\"https://search.yahoo.co.jp/realtime\" tabindex=\"-1\"><span class=\"fQMqQTGJTbIMxjQwZA2zk _3tGRl6x9iIWRiFTkKl3kcR\"><span class=\"_1uQvvM7M_K0hc4e29lRa8\">リアルタイム</span></span></a>,\n",
              " <a aria-label=\"一覧で検索\" class=\"y9H1Sj9hz4OlEq2_aEt5E\" data-cl-params=\"_cl_vmodule:search;_cl_link:svc;_cl_position:0\" data-ylk=\"rsec:search;slk:svc;pos:0\" href=\"https://services.yahoo.co.jp/\" tabindex=\"-1\"><span class=\"fQMqQTGJTbIMxjQwZA2zk _3tGRl6x9iIWRiFTkKl3kcR\"><span class=\"_1uQvvM7M_K0hc4e29lRa8\">一覧</span></span></a>,\n",
              " <a class=\"_1NzGMsC3awTFzjzXnvX-zV\" data-cl-params=\"_cl_vmodule:message;_cl_link:jsof;_cl_position:0\" data-ylk=\"rsec:message;slk:jsof;pos:0\" href=\"https://support.yahoo-net.jp/noscript\">JavaScriptの設定方法</a>,\n",
              " <a class=\"yMWCYupQNdgppL-NV6sMi _3sAlKGsIBCxTUbNi86oSjt\" data-cl-params=\"_cl_vmodule:toplink;_cl_link:link;_cl_position:1;aid:2848202\" data-ylk=\"rsec:toplink;slk:link;pos:1;aid:2848202\" href=\"https://takarabako.yahoo.co.jp/?sc_e=yttl_m2cwithlp_pc&amp;kuji_layout=b&amp;kuji_expand=1&amp;modal=off\"><span class=\"fQMqQTGJTbIMxjQwZA2zk _3tGRl6x9iIWRiFTkKl3kcR\"><span class=\"_3S2Wdrkt1LKANaWcLrZToT\">PayPayポイント100円相当が10万本当たるくじ</span></span></a>,\n",
              " <a class=\"yMWCYupQNdgppL-NV6sMi _3sAlKGsIBCxTUbNi86oSjt\" data-cl-params=\"_cl_vmodule:toplink;_cl_link:link;_cl_position:2;aid:2846585\" data-ylk=\"rsec:toplink;slk:link;pos:2;aid:2846585\" href=\"https://news.yahoo.co.jp/senkyo\"><span class=\"fQMqQTGJTbIMxjQwZA2zk _3tGRl6x9iIWRiFTkKl3kcR\"><span class=\"_3S2Wdrkt1LKANaWcLrZToT\">参院選　各選挙区の候補者や政党との相性は</span></span></a>,\n",
              " <a aria-label=\"ショッピングへ遷移する\" class=\"yMWCYupQNdgppL-NV6sMi _3sAlKGsIBCxTUbNi86oSjt\" href=\"https://shopping.yahoo.co.jp/?sc_e=ytc\"><p class=\"_2bBRLhI5ZpVYu0tuHZEFrn\"><span class=\"pz0On1w4yAviBGMdKItoQ\"><span class=\"fQMqQTGJTbIMxjQwZA2zk _3tGRl6x9iIWRiFTkKl3kcR\">ショッピング</span></span><span class=\"_1Al3K70np2V_Ev1eGkfsBm\"><span class=\"_2Uq6Pw5lfFfxr_OD36xHp6 _1dr5aVDbNPF63JCS2bJhij MOLSPrtOUmdnYy_LgNt2f\" style=\"width:20px;height:20px\"></span></span></p></a>,\n",
              " <a aria-label=\"PayPayモールへ遷移する\" class=\"yMWCYupQNdgppL-NV6sMi _3sAlKGsIBCxTUbNi86oSjt\" href=\"https://paypaymall.yahoo.co.jp/?sc_e=ytc\"><p class=\"_2bBRLhI5ZpVYu0tuHZEFrn\"><span class=\"pz0On1w4yAviBGMdKItoQ\"><span class=\"fQMqQTGJTbIMxjQwZA2zk _3tGRl6x9iIWRiFTkKl3kcR\">PayPayモール</span></span><span class=\"_1Al3K70np2V_Ev1eGkfsBm\"><span class=\"_2Uq6Pw5lfFfxr_OD36xHp6 _1dr5aVDbNPF63JCS2bJhij _2aNXx7_xy-w5TRQtsAbLhN\" style=\"width:20px;height:20px\"></span></span></p></a>,\n",
              " <a aria-label=\"ヤフオク!へ遷移する\" class=\"yMWCYupQNdgppL-NV6sMi _3sAlKGsIBCxTUbNi86oSjt\" href=\"https://auctions.yahoo.co.jp\"><p class=\"_2bBRLhI5ZpVYu0tuHZEFrn\"><span class=\"pz0On1w4yAviBGMdKItoQ\"><span class=\"fQMqQTGJTbIMxjQwZA2zk _3tGRl6x9iIWRiFTkKl3kcR\">ヤフオク!</span></span><span class=\"_1Al3K70np2V_Ev1eGkfsBm\"><span class=\"_2Uq6Pw5lfFfxr_OD36xHp6 _1dr5aVDbNPF63JCS2bJhij _1K47f2oTmrnpusFOpVVqfY\" style=\"width:20px;height:20px\"></span></span></p></a>,\n",
              " <a aria-label=\"PayPayフリマへ遷移する\" class=\"yMWCYupQNdgppL-NV6sMi _3sAlKGsIBCxTUbNi86oSjt\" href=\"https://app.adjust.com/1kmi1m2?redirect=https%3A%2F%2Fpaypayfleamarket.yahoo.co.jp%2F%3Fcpt_s%3Dytopmedia%26cpt_m%3Dkotei%26cpt_n%3Dcontent%26cpt_c%3Dytopmedia\"><p class=\"_2bBRLhI5ZpVYu0tuHZEFrn\"><span class=\"pz0On1w4yAviBGMdKItoQ\"><span class=\"fQMqQTGJTbIMxjQwZA2zk _3tGRl6x9iIWRiFTkKl3kcR\">PayPayフリマ</span></span><span class=\"_1Al3K70np2V_Ev1eGkfsBm\"><span class=\"_2Uq6Pw5lfFfxr_OD36xHp6 _1dr5aVDbNPF63JCS2bJhij _3zb-zxOYGPoHJ2-_Ie8y8T\" style=\"width:20px;height:20px\"></span></span></p></a>,\n",
              " <a aria-label=\"ZOZOTOWNへ遷移する\" class=\"yMWCYupQNdgppL-NV6sMi _3sAlKGsIBCxTUbNi86oSjt\" href=\"https://zozo.jp/?utm_source=yahoo&amp;utm_medium=referral&amp;utm_campaign=web_ytop-leftcolumn\"><p class=\"_2bBRLhI5ZpVYu0tuHZEFrn\"><span class=\"pz0On1w4yAviBGMdKItoQ\"><span class=\"fQMqQTGJTbIMxjQwZA2zk _3tGRl6x9iIWRiFTkKl3kcR\">ZOZOTOWN</span></span><span class=\"_1Al3K70np2V_Ev1eGkfsBm\"><span class=\"_2Uq6Pw5lfFfxr_OD36xHp6 _1dr5aVDbNPF63JCS2bJhij _2VdNwkD_q8hjK0ZyvATgab\" style=\"width:20px;height:20px\"></span></span></p></a>,\n",
              " <a aria-label=\"LOHACOへ遷移する\" class=\"yMWCYupQNdgppL-NV6sMi _3sAlKGsIBCxTUbNi86oSjt\" href=\"https://lohaco.yahoo.co.jp/?bk=t&amp;sc_e=j_as_ya_tc_n&amp;iscr=1\"><p class=\"_2bBRLhI5ZpVYu0tuHZEFrn\"><span class=\"pz0On1w4yAviBGMdKItoQ\"><span class=\"fQMqQTGJTbIMxjQwZA2zk _3tGRl6x9iIWRiFTkKl3kcR\">LOHACO</span></span><span class=\"_1Al3K70np2V_Ev1eGkfsBm\"><span class=\"_2Uq6Pw5lfFfxr_OD36xHp6 _1dr5aVDbNPF63JCS2bJhij _3xvmznkMqRitO0Iqn3ckur\" style=\"width:20px;height:20px\"></span></span></p></a>,\n",
              " <a aria-label=\"トラベルへ遷移する\" class=\"yMWCYupQNdgppL-NV6sMi _3sAlKGsIBCxTUbNi86oSjt\" href=\"https://travel.yahoo.co.jp/ikCo.ashx?cosid=y_010002&amp;cosuid=ytsl&amp;surl=%2F&amp;sc_e=ytsl\"><p class=\"_2bBRLhI5ZpVYu0tuHZEFrn\"><span class=\"pz0On1w4yAviBGMdKItoQ\"><span class=\"fQMqQTGJTbIMxjQwZA2zk _3tGRl6x9iIWRiFTkKl3kcR\">トラベル</span></span><span class=\"_1Al3K70np2V_Ev1eGkfsBm\"><span class=\"_2Uq6Pw5lfFfxr_OD36xHp6 _1dr5aVDbNPF63JCS2bJhij _1yEKxUFSw-Xv2gaBZsYRuI\" style=\"width:20px;height:20px\"></span></span></p></a>,\n",
              " <a aria-label=\"一休.comへ遷移する\" class=\"yMWCYupQNdgppL-NV6sMi _3sAlKGsIBCxTUbNi86oSjt\" href=\"https://www.ikyu.com/ikCo.ashx?cosid=ik010002&amp;surl=%2F&amp;sc_e=ytc_pc_ikyu\"><p class=\"_2bBRLhI5ZpVYu0tuHZEFrn\"><span class=\"pz0On1w4yAviBGMdKItoQ\"><span class=\"fQMqQTGJTbIMxjQwZA2zk _3tGRl6x9iIWRiFTkKl3kcR\">一休.com</span></span><span class=\"_1Al3K70np2V_Ev1eGkfsBm\"><span class=\"_2Uq6Pw5lfFfxr_OD36xHp6 _1dr5aVDbNPF63JCS2bJhij daLkyi7PiGXeFyVYTU_9n\" style=\"width:20px;height:20px\"></span></span></p></a>,\n",
              " <a aria-label=\"一休.comレストランへ遷移する\" class=\"yMWCYupQNdgppL-NV6sMi _3sAlKGsIBCxTUbNi86oSjt\" href=\"https://restaurant.ikyu.com/rsCosite.asp?CosNo=10000175&amp;CosUrl=\"><p class=\"_2bBRLhI5ZpVYu0tuHZEFrn\"><span class=\"pz0On1w4yAviBGMdKItoQ\"><span class=\"fQMqQTGJTbIMxjQwZA2zk _3tGRl6x9iIWRiFTkKl3kcR\">一休.comレストラン</span></span><span class=\"_1Al3K70np2V_Ev1eGkfsBm\"><span class=\"_2Uq6Pw5lfFfxr_OD36xHp6 _1dr5aVDbNPF63JCS2bJhij _1z4Le4zkghapVZCQm9RCy8\" style=\"width:20px;height:20px\"></span></span></p></a>,\n",
              " <a aria-label=\"出前館へ遷移する\" class=\"yMWCYupQNdgppL-NV6sMi _3sAlKGsIBCxTUbNi86oSjt\" href=\"https://demae-can.com/?utm_source=yahoo&amp;utm_medium=toplink&amp;utm_campaign=demaecantop\"><p class=\"_2bBRLhI5ZpVYu0tuHZEFrn\"><span class=\"pz0On1w4yAviBGMdKItoQ\"><span class=\"fQMqQTGJTbIMxjQwZA2zk _3tGRl6x9iIWRiFTkKl3kcR\">出前館</span></span><span class=\"_1Al3K70np2V_Ev1eGkfsBm\"><span class=\"_2Uq6Pw5lfFfxr_OD36xHp6 _1dr5aVDbNPF63JCS2bJhij NuRliOifOckuQ9kobVaI9\" style=\"width:20px;height:20px\"></span></span></p></a>,\n",
              " <a aria-label=\"Yahoo! JAPANのサービス一覧\" class=\"yMWCYupQNdgppL-NV6sMi _3sAlKGsIBCxTUbNi86oSjt\" data-cl-params=\"_cl_vmodule:tool;_cl_link:list;_cl_position:0\" data-ylk=\"rsec:tool;slk:list;pos:0\" href=\"https://services.yahoo.co.jp/\"><dl class=\"STepvEgbaZ0rLEqfER-qm\"><dt class=\"W2bretj6vyf8QDes2gkQA\"><span class=\"fQMqQTGJTbIMxjQwZA2zk _3tGRl6x9iIWRiFTkKl3kcR\">サービス一覧</span></dt><dd class=\"_37zK--zuySKLzNE12rgdHL\"><span class=\"_2Uq6Pw5lfFfxr_OD36xHp6 _1dr5aVDbNPF63JCS2bJhij _3WrFs0ChLr_s9-gBqS7yts\" style=\"width:12px;height:12px\"></span></dd></dl></a>,\n",
              " <a class=\"yMWCYupQNdgppL-NV6sMi _3sAlKGsIBCxTUbNi86oSjt\" data-cl-params=\"_cl_vmodule:tpto;_cl_link:title;_cl_position:1;tpid:6431862;imgsize:s;cmt_num:485\" data-ual-gotocontent=\"true\" data-ylk=\"rsec:tpto;slk:title;pos:1;tpid:6431862;imgsize:s;cmt_num:485\" href=\"https://news.yahoo.co.jp/pickup/6431862\"><div class=\"_2cXD1uC4eaOih4-zkRgqjU\"><div class=\"TRuzXRRZHRqbqgLUCCco9\"><h1 class=\"_3cl937Zpn1ce8mDKd5kp7u\"><span class=\"fQMqQTGJTbIMxjQwZA2zk _1alzSpTqJzvSVUWqpx82d4\">英首相が退陣へ ユーモアで存在感</span></h1></div></div></a>,\n",
              " <a class=\"yMWCYupQNdgppL-NV6sMi _3sAlKGsIBCxTUbNi86oSjt\" data-cl-params=\"_cl_vmodule:tpto;_cl_link:title;_cl_position:2;tpid:6431863;imgsize:s;cmt_num:0\" data-ual-gotocontent=\"true\" data-ylk=\"rsec:tpto;slk:title;pos:2;tpid:6431863;imgsize:s;cmt_num:0\" href=\"https://news.yahoo.co.jp/pickup/6431863\"><div class=\"_2cXD1uC4eaOih4-zkRgqjU\"><div class=\"TRuzXRRZHRqbqgLUCCco9\"><h1 class=\"_3cl937Zpn1ce8mDKd5kp7u\"><span class=\"fQMqQTGJTbIMxjQwZA2zk _1alzSpTqJzvSVUWqpx82d4\">林外相がG20夕食会欠席 露を拒否</span></h1><span class=\"_2obRU_TgAxzHaYqOXrZYlv\"><span class=\"h4yLXygiSc5wwNlJOQEdz _1dr5aVDbNPF63JCS2bJhij _2M3AyDfFaeJl3Uo7lUPMAp\" style=\"width:30px;height:12px\">NEW</span></span></div></div></a>,\n",
              " <a class=\"yMWCYupQNdgppL-NV6sMi _3sAlKGsIBCxTUbNi86oSjt\" data-cl-params=\"_cl_vmodule:tpto;_cl_link:title;_cl_position:3;tpid:6431864;imgsize:s;cmt_num:605\" data-ual-gotocontent=\"true\" data-ylk=\"rsec:tpto;slk:title;pos:3;tpid:6431864;imgsize:s;cmt_num:605\" href=\"https://news.yahoo.co.jp/pickup/6431864\"><div class=\"_2cXD1uC4eaOih4-zkRgqjU\"><div class=\"TRuzXRRZHRqbqgLUCCco9\"><h1 class=\"_3cl937Zpn1ce8mDKd5kp7u\"><span class=\"fQMqQTGJTbIMxjQwZA2zk _1alzSpTqJzvSVUWqpx82d4\">島根で先駆けてBA.5拡大 都の倍</span></h1><span class=\"_2obRU_TgAxzHaYqOXrZYlv\"><span class=\"h4yLXygiSc5wwNlJOQEdz _1dr5aVDbNPF63JCS2bJhij _2M3AyDfFaeJl3Uo7lUPMAp\" style=\"width:30px;height:12px\">NEW</span></span></div></div></a>,\n",
              " <a class=\"yMWCYupQNdgppL-NV6sMi _3sAlKGsIBCxTUbNi86oSjt\" data-cl-params=\"_cl_vmodule:tpto;_cl_link:title;_cl_position:4;tpid:6431825;imgsize:s;cmt_num:34\" data-ual-gotocontent=\"true\" data-ylk=\"rsec:tpto;slk:title;pos:4;tpid:6431825;imgsize:s;cmt_num:34\" href=\"https://news.yahoo.co.jp/pickup/6431825\"><div class=\"_2cXD1uC4eaOih4-zkRgqjU\"><div class=\"TRuzXRRZHRqbqgLUCCco9\"><h1 class=\"_3cl937Zpn1ce8mDKd5kp7u\"><span class=\"fQMqQTGJTbIMxjQwZA2zk _1alzSpTqJzvSVUWqpx82d4\">線状降水帯の予報 活用悩む自治体</span></h1><span class=\"_2obRU_TgAxzHaYqOXrZYlv\"><span class=\"h4yLXygiSc5wwNlJOQEdz _1dr5aVDbNPF63JCS2bJhij _2M3AyDfFaeJl3Uo7lUPMAp\" style=\"width:30px;height:12px\">NEW</span></span></div></div></a>,\n",
              " <a class=\"yMWCYupQNdgppL-NV6sMi _3sAlKGsIBCxTUbNi86oSjt\" data-cl-params=\"_cl_vmodule:tpto;_cl_link:title;_cl_position:5;tpid:6431861;imgsize:s;cmt_num:709\" data-ual-gotocontent=\"true\" data-ylk=\"rsec:tpto;slk:title;pos:5;tpid:6431861;imgsize:s;cmt_num:709\" href=\"https://news.yahoo.co.jp/pickup/6431861\"><div class=\"_2cXD1uC4eaOih4-zkRgqjU\"><div class=\"TRuzXRRZHRqbqgLUCCco9\"><h1 class=\"_3cl937Zpn1ce8mDKd5kp7u\"><span class=\"fQMqQTGJTbIMxjQwZA2zk _1alzSpTqJzvSVUWqpx82d4\">中野サンプラザ 来年7月に閉館</span></h1></div></div></a>,\n",
              " <a class=\"yMWCYupQNdgppL-NV6sMi _3sAlKGsIBCxTUbNi86oSjt\" data-cl-params=\"_cl_vmodule:tpto;_cl_link:title;_cl_position:6;tpid:6431816;imgsize:s;cmt_num:273\" data-ual-gotocontent=\"true\" data-ylk=\"rsec:tpto;slk:title;pos:6;tpid:6431816;imgsize:s;cmt_num:273\" href=\"https://news.yahoo.co.jp/pickup/6431816\"><div class=\"_2cXD1uC4eaOih4-zkRgqjU\"><div class=\"TRuzXRRZHRqbqgLUCCco9\"><h1 class=\"_3cl937Zpn1ce8mDKd5kp7u\"><span class=\"fQMqQTGJTbIMxjQwZA2zk _1alzSpTqJzvSVUWqpx82d4\">マンションの誤配送 適切な対応は</span></h1><span class=\"_2obRU_TgAxzHaYqOXrZYlv\"><span class=\"h4yLXygiSc5wwNlJOQEdz _1dr5aVDbNPF63JCS2bJhij _2M3AyDfFaeJl3Uo7lUPMAp\" style=\"width:30px;height:12px\">NEW</span></span></div></div></a>,\n",
              " <a class=\"yMWCYupQNdgppL-NV6sMi _3sAlKGsIBCxTUbNi86oSjt\" data-cl-params=\"_cl_vmodule:tpto;_cl_link:title;_cl_position:7;tpid:6431859;imgsize:s;cmt_num:1434\" data-ual-gotocontent=\"true\" data-ylk=\"rsec:tpto;slk:title;pos:7;tpid:6431859;imgsize:s;cmt_num:1434\" href=\"https://news.yahoo.co.jp/pickup/6431859\"><div class=\"_2cXD1uC4eaOih4-zkRgqjU\"><div class=\"TRuzXRRZHRqbqgLUCCco9\"><h1 class=\"_3cl937Zpn1ce8mDKd5kp7u\"><span class=\"fQMqQTGJTbIMxjQwZA2zk _1alzSpTqJzvSVUWqpx82d4\">全く溶けぬアイス 中国で動画物議</span></h1></div></div></a>,\n",
              " <a class=\"yMWCYupQNdgppL-NV6sMi _3sAlKGsIBCxTUbNi86oSjt\" data-cl-params=\"_cl_vmodule:tpto;_cl_link:title;_cl_position:8;tpid:6431860;imgsize:s;cmt_num:283\" data-ual-gotocontent=\"true\" data-ylk=\"rsec:tpto;slk:title;pos:8;tpid:6431860;imgsize:s;cmt_num:283\" href=\"https://news.yahoo.co.jp/pickup/6431860\"><div class=\"_2cXD1uC4eaOih4-zkRgqjU\"><div class=\"TRuzXRRZHRqbqgLUCCco9\"><h1 class=\"_3cl937Zpn1ce8mDKd5kp7u\"><span class=\"fQMqQTGJTbIMxjQwZA2zk _1alzSpTqJzvSVUWqpx82d4\">20年前のゲーム 夫婦に起きた奇跡</span></h1></div></div></a>,\n",
              " <a class=\"yMWCYupQNdgppL-NV6sMi _3sAlKGsIBCxTUbNi86oSjt\" data-cl-params=\"_cl_vmodule:tpto;_cl_link:title;_cl_position:9;imgsize:l\" data-ylk=\"rsec:tpto;slk:title;pos:9;imgsize:l\" href=\"https://news.yahoo.co.jp/articles/d9fdf1bf98b85833950e260419ab051b44b91b3e/images/000\"><div class=\"_1EYwdR4JxrwgpIvWk7vO3f\"><h1 class=\"RS4h_eDWC6FIIyYMupWR0\"><span class=\"fQMqQTGJTbIMxjQwZA2zk _1alzSpTqJzvSVUWqpx82d4\">虹のくまさん</span></h1><p class=\"_2e8OreFgYIc3gdzYJLKAMA\"><time class=\"_1GD9Sx7FpCs4EuL3bT974r\">7/7(木) 14:48</time></p><div class=\"_1pfcRKnf6y-2AXzpXf0vrb\"><cite class=\"O9jggTRv0zy3XcPayfJLa\">丹波新聞</cite></div><div class=\"_1UmUawjY6VSzmTK3Y-1sjq\"><span class=\"rStpk9W4eUO5IMVhnJylj\"><picture><source srcset=\"https://news-pctr.c.yimg.jp/t/news-topics/images/tpc/2022/7/7/b245f04dd79bae1e653d978600279741198d4ae38e034fbb95fe1df2ccaa25d2.jpg?h=200&amp;w=200&amp;pri=l&amp;fmt=webp\" type=\"image/webp\"/><img alt=\"\" height=\"90\" src=\"https://news-pctr.c.yimg.jp/t/news-topics/images/tpc/2022/7/7/b245f04dd79bae1e653d978600279741198d4ae38e034fbb95fe1df2ccaa25d2.jpg?h=200&amp;w=200&amp;pri=l\" width=\"74.45454545454547\"/></picture></span></div></div></a>,\n",
              " <a class=\"yMWCYupQNdgppL-NV6sMi _3sAlKGsIBCxTUbNi86oSjt\" data-cl-params=\"_cl_vmodule:tpto;_cl_link:more;_cl_position:0\" data-ylk=\"rsec:tpto;slk:more;pos:0\" href=\"https://news.yahoo.co.jp/topics/top-picks\">もっと見る</a>,\n",
              " <a class=\"yMWCYupQNdgppL-NV6sMi _3sAlKGsIBCxTUbNi86oSjt\" data-cl-params=\"_cl_vmodule:tpto;_cl_link:list;_cl_position:0\" data-ylk=\"rsec:tpto;slk:list;pos:0\" href=\"https://news.yahoo.co.jp/topics\">トピックス一覧</a>,\n",
              " <a class=\"yMWCYupQNdgppL-NV6sMi _3sAlKGsIBCxTUbNi86oSjt\" data-cl-params=\"_cl_vmodule:personal;_cl_link:login;_cl_position:0\" data-ylk=\"rsec:personal;slk:login;pos:0\" href=\"https://login.yahoo.co.jp/config/login?.src=www&amp;.done=https://www.yahoo.co.jp/\"><span class=\"fQMqQTGJTbIMxjQwZA2zk _3tGRl6x9iIWRiFTkKl3kcR\">ログイン</span></a>,\n",
              " <a class=\"yMWCYupQNdgppL-NV6sMi _3sAlKGsIBCxTUbNi86oSjt\" data-cl-params=\"_cl_vmodule:personal;_cl_link:reg;_cl_position:0\" data-ylk=\"rsec:personal;slk:reg;pos:0\" href=\"https://account.edit.yahoo.co.jp/registration?.src=www&amp;.done=https://www.yahoo.co.jp/\"><span class=\"_1mkb9myOuisBstoCqO0Hqs\">ID新規取得</span></a>,\n",
              " <a class=\"yMWCYupQNdgppL-NV6sMi _3sAlKGsIBCxTUbNi86oSjt\" data-cl-params=\"_cl_vmodule:personal;_cl_link:profile;_cl_position:0\" data-ylk=\"rsec:personal;slk:profile;pos:0\" href=\"https://login.yahoo.co.jp/config/login?.src=www&amp;.done=https%3A%2F%2Faccounts.yahoo.co.jp%2Fprofile%3F.done%3Dhttps%253A%252F%252Fwww.yahoo.co.jp%252F%253F.src%253Dwww%2526t_cushion%253D1\"><p class=\"_2KSAVmekATGu43KySZB31Z _39bsyXI766slVaQ8YaCP7e\">登録情報</p></a>,\n",
              " <a aria-label=\"メール\" class=\"yMWCYupQNdgppL-NV6sMi _3sAlKGsIBCxTUbNi86oSjt\" data-cl-params=\"_cl_vmodule:personal;_cl_link:mail;_cl_position:0\" data-ylk=\"rsec:personal;slk:mail;pos:0\" href=\"https://mail.yahoo.co.jp/\"><dl class=\"NhCWhleHpZ0CADioxObVu\"><dt class=\"_3KpLuhOuze7bsGr1VOVvCU _1cwjJ3tGb1rIXP4crTFbkT\"><span class=\"_2Uq6Pw5lfFfxr_OD36xHp6 _1dr5aVDbNPF63JCS2bJhij _3Qi5P0lTFbNkWishPzz8tb\" style=\"width:34px;height:24px\">メール</span></dt><dd class=\"_1CLgF9dk2PVVFQFnko3vN0\"><span class=\"fQMqQTGJTbIMxjQwZA2zk DB1xWkV-AiF3oBGL1BuYd\">メール</span></dd></dl></a>,\n",
              " <a aria-label=\"クーポン確認\" class=\"yMWCYupQNdgppL-NV6sMi _3sAlKGsIBCxTUbNi86oSjt\" data-cl-params=\"_cl_vmodule:personal;_cl_link:coupon;_cl_position:0\" data-ylk=\"rsec:personal;slk:coupon;pos:0\" href=\"https://takarabako.yahoo.co.jp/couponlist?sc_e=ytprsnl_m2cwithlp_tkbcplistkpc\"><dl class=\"NhCWhleHpZ0CADioxObVu\"><dt class=\"_3KpLuhOuze7bsGr1VOVvCU _13KS_mFqHK2VUqgquLqEUn\"><span class=\"_2Uq6Pw5lfFfxr_OD36xHp6 _1dr5aVDbNPF63JCS2bJhij _1Vg0G_MV-B3DdCtI-6SS8z\" style=\"width:32px;height:26px\">Myクーポン</span></dt><dd class=\"_1CLgF9dk2PVVFQFnko3vN0\"><span class=\"fQMqQTGJTbIMxjQwZA2zk DB1xWkV-AiF3oBGL1BuYd\">クーポン確認</span></dd></dl></a>,\n",
              " <a aria-label=\"PayPay残高確認\" class=\"yMWCYupQNdgppL-NV6sMi _3sAlKGsIBCxTUbNi86oSjt\" data-cl-params=\"_cl_vmodule:personal;_cl_link:paypay;_cl_position:0;badge:off\" data-ylk=\"rsec:personal;slk:paypay;pos:0;badge:off\" href=\"https://paypay.yahoo.co.jp/balance?.done=https%3A%2F%2Fwww.yahoo.co.jp%2F&amp;.bail=https%3A%2F%2Fwww.yahoo.co.jp%2F&amp;.linkdisp=1&amp;sc_e=ywww_pp_top_pc1\"><dl class=\"NhCWhleHpZ0CADioxObVu\"><dt class=\"_3KpLuhOuze7bsGr1VOVvCU\"><span class=\"_2Uq6Pw5lfFfxr_OD36xHp6 _1dr5aVDbNPF63JCS2bJhij _2288dlil4Nkm3lO8Sm3hDU\" style=\"width:28px;height:28px\">PayPay</span></dt><dd class=\"_1CLgF9dk2PVVFQFnko3vN0\"><span class=\"fQMqQTGJTbIMxjQwZA2zk DB1xWkV-AiF3oBGL1BuYd\">PayPay残高確認</span></dd></dl></a>,\n",
              " <a aria-label=\"今日の日付は2022年7月8日　金曜日\" class=\"yMWCYupQNdgppL-NV6sMi _3sAlKGsIBCxTUbNi86oSjt\" data-cl-params=\"_cl_vmodule:today;_cl_link:date;_cl_position:0\" data-ylk=\"rsec:today;slk:date;pos:0\" href=\"https://calendar.yahoo.co.jp\"><span class=\"fQMqQTGJTbIMxjQwZA2zk _3tGRl6x9iIWRiFTkKl3kcR\"><time class=\"_39pIdCsxycrMrZfr-69cAP\" datetime=\"2022-07-07T19:33:19.000Z\">2022年7月8日(金)</time></span></a>,\n",
              " <a class=\"yMWCYupQNdgppL-NV6sMi _3sAlKGsIBCxTUbNi86oSjt\" data-cl-params=\"_cl_link:comp;_cl_position:0\" data-ylk=\"slk:comp;pos:0\" href=\"https://about.yahoo.co.jp/\">会社概要</a>,\n",
              " <a class=\"yMWCYupQNdgppL-NV6sMi _3sAlKGsIBCxTUbNi86oSjt\" data-cl-params=\"_cl_link:soc;_cl_position:0\" data-ylk=\"slk:soc;pos:0\" href=\"https://about.yahoo.co.jp/csr/\">社会的責任</a>,\n",
              " <a class=\"yMWCYupQNdgppL-NV6sMi _3sAlKGsIBCxTUbNi86oSjt\" data-cl-params=\"_cl_link:ad;_cl_position:0\" data-ylk=\"slk:ad;pos:0\" href=\"https://marketing.yahoo.co.jp/\">広告掲載について</a>,\n",
              " <a class=\"yMWCYupQNdgppL-NV6sMi _3sAlKGsIBCxTUbNi86oSjt\" data-cl-params=\"_cl_link:hr;_cl_position:0\" data-ylk=\"slk:hr;pos:0\" href=\"https://about.yahoo.co.jp/hr/\">採用情報</a>,\n",
              " <a class=\"yMWCYupQNdgppL-NV6sMi _3sAlKGsIBCxTUbNi86oSjt\" data-cl-params=\"_cl_link:agreement;_cl_position:0\" data-ylk=\"slk:agreement;pos:0\" href=\"https://about.yahoo.co.jp/common/terms/\">利用規約</a>,\n",
              " <a class=\"yMWCYupQNdgppL-NV6sMi _3sAlKGsIBCxTUbNi86oSjt\" data-cl-params=\"_cl_link:disc;_cl_position:0\" data-ylk=\"slk:disc;pos:0\" href=\"https://about.yahoo.co.jp/common/disclaimer/\">免責事項</a>,\n",
              " <a class=\"yMWCYupQNdgppL-NV6sMi _3sAlKGsIBCxTUbNi86oSjt\" data-cl-params=\"_cl_link:state;_cl_position:0\" data-ylk=\"slk:state;pos:0\" href=\"https://about.yahoo.co.jp/common/mediastatement/\">メディアステートメント</a>,\n",
              " <a class=\"yMWCYupQNdgppL-NV6sMi _3sAlKGsIBCxTUbNi86oSjt\" data-cl-params=\"_cl_link:policy;_cl_position:0\" data-ylk=\"slk:policy;pos:0\" href=\"https://privacy.yahoo.co.jp/\">プライバシー</a>,\n",
              " <a class=\"yMWCYupQNdgppL-NV6sMi _3sAlKGsIBCxTUbNi86oSjt\" data-cl-params=\"_cl_link:z_comp;_cl_position:0\" data-ylk=\"slk:z_comp;pos:0\" href=\"https://www.z-holdings.co.jp/\">会社概要</a>,\n",
              " <a class=\"yMWCYupQNdgppL-NV6sMi _3sAlKGsIBCxTUbNi86oSjt\" data-cl-params=\"_cl_link:ir;_cl_position:0\" data-ylk=\"slk:ir;pos:0\" href=\"https://www.z-holdings.co.jp/ir/\">投資家情報</a>]"
            ]
          },
          "metadata": {},
          "execution_count": 15
        }
      ]
    },
    {
      "cell_type": "code",
      "source": [
        "import re"
      ],
      "metadata": {
        "id": "TwJbunOK1q6_"
      },
      "execution_count": null,
      "outputs": []
    },
    {
      "cell_type": "code",
      "source": [
        "elems=soup.find_all(href=re.compile(\"news.yahoo.co.jp/pickup\"))\n",
        "elemsa "
      ],
      "metadata": {
        "colab": {
          "base_uri": "https://localhost:8080/"
        },
        "id": "GIk_9WVT1LgD",
        "outputId": "0cbbb492-2c57-4718-d6ce-868070caf473"
      },
      "execution_count": null,
      "outputs": [
        {
          "output_type": "execute_result",
          "data": {
            "text/plain": [
              "[<a class=\"yMWCYupQNdgppL-NV6sMi _3sAlKGsIBCxTUbNi86oSjt\" data-cl-params=\"_cl_vmodule:tpto;_cl_link:title;_cl_position:1;tpid:6431862;imgsize:s;cmt_num:485\" data-ual-gotocontent=\"true\" data-ylk=\"rsec:tpto;slk:title;pos:1;tpid:6431862;imgsize:s;cmt_num:485\" href=\"https://news.yahoo.co.jp/pickup/6431862\"><div class=\"_2cXD1uC4eaOih4-zkRgqjU\"><div class=\"TRuzXRRZHRqbqgLUCCco9\"><h1 class=\"_3cl937Zpn1ce8mDKd5kp7u\"><span class=\"fQMqQTGJTbIMxjQwZA2zk _1alzSpTqJzvSVUWqpx82d4\">英首相が退陣へ ユーモアで存在感</span></h1></div></div></a>,\n",
              " <a class=\"yMWCYupQNdgppL-NV6sMi _3sAlKGsIBCxTUbNi86oSjt\" data-cl-params=\"_cl_vmodule:tpto;_cl_link:title;_cl_position:2;tpid:6431863;imgsize:s;cmt_num:0\" data-ual-gotocontent=\"true\" data-ylk=\"rsec:tpto;slk:title;pos:2;tpid:6431863;imgsize:s;cmt_num:0\" href=\"https://news.yahoo.co.jp/pickup/6431863\"><div class=\"_2cXD1uC4eaOih4-zkRgqjU\"><div class=\"TRuzXRRZHRqbqgLUCCco9\"><h1 class=\"_3cl937Zpn1ce8mDKd5kp7u\"><span class=\"fQMqQTGJTbIMxjQwZA2zk _1alzSpTqJzvSVUWqpx82d4\">林外相がG20夕食会欠席 露を拒否</span></h1><span class=\"_2obRU_TgAxzHaYqOXrZYlv\"><span class=\"h4yLXygiSc5wwNlJOQEdz _1dr5aVDbNPF63JCS2bJhij _2M3AyDfFaeJl3Uo7lUPMAp\" style=\"width:30px;height:12px\">NEW</span></span></div></div></a>,\n",
              " <a class=\"yMWCYupQNdgppL-NV6sMi _3sAlKGsIBCxTUbNi86oSjt\" data-cl-params=\"_cl_vmodule:tpto;_cl_link:title;_cl_position:3;tpid:6431864;imgsize:s;cmt_num:605\" data-ual-gotocontent=\"true\" data-ylk=\"rsec:tpto;slk:title;pos:3;tpid:6431864;imgsize:s;cmt_num:605\" href=\"https://news.yahoo.co.jp/pickup/6431864\"><div class=\"_2cXD1uC4eaOih4-zkRgqjU\"><div class=\"TRuzXRRZHRqbqgLUCCco9\"><h1 class=\"_3cl937Zpn1ce8mDKd5kp7u\"><span class=\"fQMqQTGJTbIMxjQwZA2zk _1alzSpTqJzvSVUWqpx82d4\">島根で先駆けてBA.5拡大 都の倍</span></h1><span class=\"_2obRU_TgAxzHaYqOXrZYlv\"><span class=\"h4yLXygiSc5wwNlJOQEdz _1dr5aVDbNPF63JCS2bJhij _2M3AyDfFaeJl3Uo7lUPMAp\" style=\"width:30px;height:12px\">NEW</span></span></div></div></a>,\n",
              " <a class=\"yMWCYupQNdgppL-NV6sMi _3sAlKGsIBCxTUbNi86oSjt\" data-cl-params=\"_cl_vmodule:tpto;_cl_link:title;_cl_position:4;tpid:6431825;imgsize:s;cmt_num:34\" data-ual-gotocontent=\"true\" data-ylk=\"rsec:tpto;slk:title;pos:4;tpid:6431825;imgsize:s;cmt_num:34\" href=\"https://news.yahoo.co.jp/pickup/6431825\"><div class=\"_2cXD1uC4eaOih4-zkRgqjU\"><div class=\"TRuzXRRZHRqbqgLUCCco9\"><h1 class=\"_3cl937Zpn1ce8mDKd5kp7u\"><span class=\"fQMqQTGJTbIMxjQwZA2zk _1alzSpTqJzvSVUWqpx82d4\">線状降水帯の予報 活用悩む自治体</span></h1><span class=\"_2obRU_TgAxzHaYqOXrZYlv\"><span class=\"h4yLXygiSc5wwNlJOQEdz _1dr5aVDbNPF63JCS2bJhij _2M3AyDfFaeJl3Uo7lUPMAp\" style=\"width:30px;height:12px\">NEW</span></span></div></div></a>,\n",
              " <a class=\"yMWCYupQNdgppL-NV6sMi _3sAlKGsIBCxTUbNi86oSjt\" data-cl-params=\"_cl_vmodule:tpto;_cl_link:title;_cl_position:5;tpid:6431861;imgsize:s;cmt_num:709\" data-ual-gotocontent=\"true\" data-ylk=\"rsec:tpto;slk:title;pos:5;tpid:6431861;imgsize:s;cmt_num:709\" href=\"https://news.yahoo.co.jp/pickup/6431861\"><div class=\"_2cXD1uC4eaOih4-zkRgqjU\"><div class=\"TRuzXRRZHRqbqgLUCCco9\"><h1 class=\"_3cl937Zpn1ce8mDKd5kp7u\"><span class=\"fQMqQTGJTbIMxjQwZA2zk _1alzSpTqJzvSVUWqpx82d4\">中野サンプラザ 来年7月に閉館</span></h1></div></div></a>,\n",
              " <a class=\"yMWCYupQNdgppL-NV6sMi _3sAlKGsIBCxTUbNi86oSjt\" data-cl-params=\"_cl_vmodule:tpto;_cl_link:title;_cl_position:6;tpid:6431816;imgsize:s;cmt_num:273\" data-ual-gotocontent=\"true\" data-ylk=\"rsec:tpto;slk:title;pos:6;tpid:6431816;imgsize:s;cmt_num:273\" href=\"https://news.yahoo.co.jp/pickup/6431816\"><div class=\"_2cXD1uC4eaOih4-zkRgqjU\"><div class=\"TRuzXRRZHRqbqgLUCCco9\"><h1 class=\"_3cl937Zpn1ce8mDKd5kp7u\"><span class=\"fQMqQTGJTbIMxjQwZA2zk _1alzSpTqJzvSVUWqpx82d4\">マンションの誤配送 適切な対応は</span></h1><span class=\"_2obRU_TgAxzHaYqOXrZYlv\"><span class=\"h4yLXygiSc5wwNlJOQEdz _1dr5aVDbNPF63JCS2bJhij _2M3AyDfFaeJl3Uo7lUPMAp\" style=\"width:30px;height:12px\">NEW</span></span></div></div></a>,\n",
              " <a class=\"yMWCYupQNdgppL-NV6sMi _3sAlKGsIBCxTUbNi86oSjt\" data-cl-params=\"_cl_vmodule:tpto;_cl_link:title;_cl_position:7;tpid:6431859;imgsize:s;cmt_num:1434\" data-ual-gotocontent=\"true\" data-ylk=\"rsec:tpto;slk:title;pos:7;tpid:6431859;imgsize:s;cmt_num:1434\" href=\"https://news.yahoo.co.jp/pickup/6431859\"><div class=\"_2cXD1uC4eaOih4-zkRgqjU\"><div class=\"TRuzXRRZHRqbqgLUCCco9\"><h1 class=\"_3cl937Zpn1ce8mDKd5kp7u\"><span class=\"fQMqQTGJTbIMxjQwZA2zk _1alzSpTqJzvSVUWqpx82d4\">全く溶けぬアイス 中国で動画物議</span></h1></div></div></a>,\n",
              " <a class=\"yMWCYupQNdgppL-NV6sMi _3sAlKGsIBCxTUbNi86oSjt\" data-cl-params=\"_cl_vmodule:tpto;_cl_link:title;_cl_position:8;tpid:6431860;imgsize:s;cmt_num:283\" data-ual-gotocontent=\"true\" data-ylk=\"rsec:tpto;slk:title;pos:8;tpid:6431860;imgsize:s;cmt_num:283\" href=\"https://news.yahoo.co.jp/pickup/6431860\"><div class=\"_2cXD1uC4eaOih4-zkRgqjU\"><div class=\"TRuzXRRZHRqbqgLUCCco9\"><h1 class=\"_3cl937Zpn1ce8mDKd5kp7u\"><span class=\"fQMqQTGJTbIMxjQwZA2zk _1alzSpTqJzvSVUWqpx82d4\">20年前のゲーム 夫婦に起きた奇跡</span></h1></div></div></a>]"
            ]
          },
          "metadata": {},
          "execution_count": 17
        }
      ]
    },
    {
      "cell_type": "code",
      "source": [
        "elems[0].contents[0]"
      ],
      "metadata": {
        "colab": {
          "base_uri": "https://localhost:8080/"
        },
        "id": "U_kPzXeI1H86",
        "outputId": "6c12a159-dd1e-4f6d-aa80-4645990bda14"
      },
      "execution_count": null,
      "outputs": [
        {
          "output_type": "execute_result",
          "data": {
            "text/plain": [
              "<div class=\"_2cXD1uC4eaOih4-zkRgqjU\"><div class=\"TRuzXRRZHRqbqgLUCCco9\"><h1 class=\"_3cl937Zpn1ce8mDKd5kp7u\"><span class=\"fQMqQTGJTbIMxjQwZA2zk _1alzSpTqJzvSVUWqpx82d4\">英首相が退陣へ ユーモアで存在感</span></h1></div></div>"
            ]
          },
          "metadata": {},
          "execution_count": 18
        }
      ]
    },
    {
      "cell_type": "code",
      "source": [
        "elems[0].attrs['href']"
      ],
      "metadata": {
        "colab": {
          "base_uri": "https://localhost:8080/",
          "height": 35
        },
        "id": "y-K8rjN21zaQ",
        "outputId": "eeb0f715-8eac-4e6a-997d-327699f68cd3"
      },
      "execution_count": null,
      "outputs": [
        {
          "output_type": "execute_result",
          "data": {
            "text/plain": [
              "'https://news.yahoo.co.jp/pickup/6431862'"
            ],
            "application/vnd.google.colaboratory.intrinsic+json": {
              "type": "string"
            }
          },
          "metadata": {},
          "execution_count": 19
        }
      ]
    },
    {
      "cell_type": "code",
      "source": [
        "print(elems[1].contents[0])\n",
        "print(elems[1].attrs['href'])"
      ],
      "metadata": {
        "colab": {
          "base_uri": "https://localhost:8080/"
        },
        "id": "WsYsgfl5HIvs",
        "outputId": "2904e795-2f41-46f6-9c3a-288ee1acf6e3"
      },
      "execution_count": null,
      "outputs": [
        {
          "output_type": "stream",
          "name": "stdout",
          "text": [
            "<div class=\"_2cXD1uC4eaOih4-zkRgqjU\"><div class=\"TRuzXRRZHRqbqgLUCCco9\"><h1 class=\"_3cl937Zpn1ce8mDKd5kp7u\"><span class=\"fQMqQTGJTbIMxjQwZA2zk _1alzSpTqJzvSVUWqpx82d4\">林外相がG20夕食会欠席 露を拒否</span></h1><span class=\"_2obRU_TgAxzHaYqOXrZYlv\"><span class=\"h4yLXygiSc5wwNlJOQEdz _1dr5aVDbNPF63JCS2bJhij _2M3AyDfFaeJl3Uo7lUPMAp\" style=\"width:30px;height:12px\">NEW</span></span></div></div>\n",
            "https://news.yahoo.co.jp/pickup/6431863\n"
          ]
        }
      ]
    },
    {
      "cell_type": "code",
      "source": [
        "for elem in elems:\n",
        "    print(elem.contents[0])\n",
        "    print(elem.attrs['href'])"
      ],
      "metadata": {
        "colab": {
          "base_uri": "https://localhost:8080/"
        },
        "id": "opTXGWouHT8V",
        "outputId": "4f3e802a-66c2-42e5-bf0b-e3ddcd2f71ed"
      },
      "execution_count": null,
      "outputs": [
        {
          "output_type": "stream",
          "name": "stdout",
          "text": [
            "<div class=\"_2cXD1uC4eaOih4-zkRgqjU\"><div class=\"TRuzXRRZHRqbqgLUCCco9\"><h1 class=\"_3cl937Zpn1ce8mDKd5kp7u\"><span class=\"fQMqQTGJTbIMxjQwZA2zk _1alzSpTqJzvSVUWqpx82d4\">英首相が退陣へ ユーモアで存在感</span></h1></div></div>\n",
            "https://news.yahoo.co.jp/pickup/6431862\n",
            "<div class=\"_2cXD1uC4eaOih4-zkRgqjU\"><div class=\"TRuzXRRZHRqbqgLUCCco9\"><h1 class=\"_3cl937Zpn1ce8mDKd5kp7u\"><span class=\"fQMqQTGJTbIMxjQwZA2zk _1alzSpTqJzvSVUWqpx82d4\">林外相がG20夕食会欠席 露を拒否</span></h1><span class=\"_2obRU_TgAxzHaYqOXrZYlv\"><span class=\"h4yLXygiSc5wwNlJOQEdz _1dr5aVDbNPF63JCS2bJhij _2M3AyDfFaeJl3Uo7lUPMAp\" style=\"width:30px;height:12px\">NEW</span></span></div></div>\n",
            "https://news.yahoo.co.jp/pickup/6431863\n",
            "<div class=\"_2cXD1uC4eaOih4-zkRgqjU\"><div class=\"TRuzXRRZHRqbqgLUCCco9\"><h1 class=\"_3cl937Zpn1ce8mDKd5kp7u\"><span class=\"fQMqQTGJTbIMxjQwZA2zk _1alzSpTqJzvSVUWqpx82d4\">島根で先駆けてBA.5拡大 都の倍</span></h1><span class=\"_2obRU_TgAxzHaYqOXrZYlv\"><span class=\"h4yLXygiSc5wwNlJOQEdz _1dr5aVDbNPF63JCS2bJhij _2M3AyDfFaeJl3Uo7lUPMAp\" style=\"width:30px;height:12px\">NEW</span></span></div></div>\n",
            "https://news.yahoo.co.jp/pickup/6431864\n",
            "<div class=\"_2cXD1uC4eaOih4-zkRgqjU\"><div class=\"TRuzXRRZHRqbqgLUCCco9\"><h1 class=\"_3cl937Zpn1ce8mDKd5kp7u\"><span class=\"fQMqQTGJTbIMxjQwZA2zk _1alzSpTqJzvSVUWqpx82d4\">線状降水帯の予報 活用悩む自治体</span></h1><span class=\"_2obRU_TgAxzHaYqOXrZYlv\"><span class=\"h4yLXygiSc5wwNlJOQEdz _1dr5aVDbNPF63JCS2bJhij _2M3AyDfFaeJl3Uo7lUPMAp\" style=\"width:30px;height:12px\">NEW</span></span></div></div>\n",
            "https://news.yahoo.co.jp/pickup/6431825\n",
            "<div class=\"_2cXD1uC4eaOih4-zkRgqjU\"><div class=\"TRuzXRRZHRqbqgLUCCco9\"><h1 class=\"_3cl937Zpn1ce8mDKd5kp7u\"><span class=\"fQMqQTGJTbIMxjQwZA2zk _1alzSpTqJzvSVUWqpx82d4\">中野サンプラザ 来年7月に閉館</span></h1></div></div>\n",
            "https://news.yahoo.co.jp/pickup/6431861\n",
            "<div class=\"_2cXD1uC4eaOih4-zkRgqjU\"><div class=\"TRuzXRRZHRqbqgLUCCco9\"><h1 class=\"_3cl937Zpn1ce8mDKd5kp7u\"><span class=\"fQMqQTGJTbIMxjQwZA2zk _1alzSpTqJzvSVUWqpx82d4\">マンションの誤配送 適切な対応は</span></h1><span class=\"_2obRU_TgAxzHaYqOXrZYlv\"><span class=\"h4yLXygiSc5wwNlJOQEdz _1dr5aVDbNPF63JCS2bJhij _2M3AyDfFaeJl3Uo7lUPMAp\" style=\"width:30px;height:12px\">NEW</span></span></div></div>\n",
            "https://news.yahoo.co.jp/pickup/6431816\n",
            "<div class=\"_2cXD1uC4eaOih4-zkRgqjU\"><div class=\"TRuzXRRZHRqbqgLUCCco9\"><h1 class=\"_3cl937Zpn1ce8mDKd5kp7u\"><span class=\"fQMqQTGJTbIMxjQwZA2zk _1alzSpTqJzvSVUWqpx82d4\">全く溶けぬアイス 中国で動画物議</span></h1></div></div>\n",
            "https://news.yahoo.co.jp/pickup/6431859\n",
            "<div class=\"_2cXD1uC4eaOih4-zkRgqjU\"><div class=\"TRuzXRRZHRqbqgLUCCco9\"><h1 class=\"_3cl937Zpn1ce8mDKd5kp7u\"><span class=\"fQMqQTGJTbIMxjQwZA2zk _1alzSpTqJzvSVUWqpx82d4\">20年前のゲーム 夫婦に起きた奇跡</span></h1></div></div>\n",
            "https://news.yahoo.co.jp/pickup/6431860\n"
          ]
        }
      ]
    },
    {
      "cell_type": "code",
      "source": [
        "pickup_links = [elem.attrs['href'] for elem in elems]\n",
        "print(pickup_links)\n",
        "#uamods-pickup > div.sc-euitrJ.gxSnEc > div > p > a\n",
        "<p class=\"sc-gvDkQG eXfsnC\"><a href=\"https://news.yahoo.co.jp/articles/7194ec756deac1c64067253920a6903b0c2ebabd\" data-ylk=\"rsec:tpc_main;slk:headline;pos:2;\" data-cl-params=\"_cl_vmodule:tpc_main;_cl_link:headline;_cl_position:2;\" data-ual-gotocontent=\"true\" class=\"sc-kvjbNB lpeELo\" data-rapid_p=\"37\">記事全文を読む</a></p>\n"
      ],
      "metadata": {
        "colab": {
          "base_uri": "https://localhost:8080/"
        },
        "id": "e9SsRHGSHVKJ",
        "outputId": "31343924-7376-4cc4-f8e7-48b294a2e2a7"
      },
      "execution_count": null,
      "outputs": [
        {
          "output_type": "stream",
          "name": "stdout",
          "text": [
            "['https://news.yahoo.co.jp/pickup/6431862', 'https://news.yahoo.co.jp/pickup/6431863', 'https://news.yahoo.co.jp/pickup/6431864', 'https://news.yahoo.co.jp/pickup/6431825', 'https://news.yahoo.co.jp/pickup/6431861', 'https://news.yahoo.co.jp/pickup/6431816', 'https://news.yahoo.co.jp/pickup/6431859', 'https://news.yahoo.co.jp/pickup/6431860']\n"
          ]
        }
      ]
    },
    {
      "cell_type": "code",
      "source": [
        "#一覧のリンクを順に処理\n",
        "for pickup_link in pickup_links:\n",
        "    #Pickupページへ遷移しページの情報を取得\n",
        "    pickup_res = requests.get(pickup_link)\n",
        "    pickup_soup = BeautifulSoup(pickup_res.text, \"html.parser\")\n",
        " \n",
        "    #ニュースページへのリンクを取得\n",
        "    pickup_elem = pickup_soup.find(\"p\", class_=\"sc-gvDkQG eXfsnC\")    \n",
        "    news_link = pickup_elem.contents[0].attrs['href']\n",
        " \n",
        "    #ニュースページの情報を取得\n",
        "    news_res = requests.get(news_link)\n",
        "    news_soup = BeautifulSoup(news_res.text, \"html.parser\")\n",
        " \n",
        "    #タイトルとURLを表示\n",
        "    print(news_soup.title.text)\n",
        "    print(news_link)\n",
        "    \n",
        "    #ニュースのテキスト情報を取得し表示\n",
        "    detail_text = news_soup.find(class_=re.compile(\"article_body highLightSearchTarget\"))\n",
        "    print(detail_text.text if hasattr(detail_text, \"text\") else '',end='\\n\\n\\n\\n')"
      ],
      "metadata": {
        "colab": {
          "base_uri": "https://localhost:8080/"
        },
        "id": "-DHJ44HfK-As",
        "outputId": "1f60a166-2bca-497d-e7cb-c4540774182b"
      },
      "execution_count": null,
      "outputs": [
        {
          "output_type": "stream",
          "name": "stdout",
          "text": [
            "英首相、重ねた「嘘」で信頼失墜　外交では存在感（産経新聞） - Yahoo!ニュース\n",
            "https://news.yahoo.co.jp/articles/e5f61c1714137c21c17ec7b45ada0b728e7e2797\n",
            "【ロンドン＝板東和正】英国のジョンソン首相が就任約３年で退陣に追い込まれることになった。英世論の支持を受けて欧州連合（ＥＵ）離脱を実現し、世界での影響力拡大を目指して掲げた「グローバル・ブリテン」戦略を実践。独特の風貌やユーモアある言動で聴衆をひき付け、存在感を発揮してきたが、首相官邸をめぐる不祥事や最近の物価高騰への抜本的な対策をとれず、政権の求心力は急速に低迷した。\n",
            "\n",
            "ジョンソン氏は２０１９年７月、ＥＵ離脱への道筋をつけられず辞任したメイ前首相の後任として首相に就任した。離脱派として知られていたジョンソン氏は、極めて困難と予想された離脱条件に関する協定案をめぐりＥＵとの交渉に成功。国内では、離脱路線に反発する野党の動きを封じ込めるため、議会を休会する前代未聞の措置に踏み切るなど「予想のつかない戦略」（英メディア）を繰り出し、２０２０年末でＥＵの完全離脱を実現させた。\n",
            "\n",
            "ジョンソン氏を知る与党・保守党の元議員は「交渉相手をリラックスさせる『人たらし』ともいえる振る舞いがＥＵを軟化させる一方、強引な手法は国内の統制をとるために役立った」と分析する。ＥＵ離脱に向けた交渉では、緊張関係にあったフランスのマクロン大統領と１９年８月に会談した際、ジョンソン氏がいたずらっ子のようにテーブルに足を乗せて冗談を交わす姿が話題になった。\n",
            "\n",
            "ジョンソン氏は離脱後、「グローバル・ブリテン」構想を表明。ＥＵの規制から英国を解き放ち、軍事や経済で世界への影響力を拡大させることに成功した。\n",
            "\n",
            "ジョンソン政権は昨年３月、今後１０年間の外交や安全保障などの政策を定めた「統合レビュー」を公表し、インド太平洋地域への関与強化を明記した。同年には、最新鋭空母「クイーン・エリザベス」を核とする空母打撃群をインド太平洋に向けて派遣。日本にも寄港し、日英の防衛協力の進展につながった。昨年６月には環太平洋戦略的経済連携協定（ＴＰＰ）加入にむけた交渉も開始した。\n",
            "\n",
            "ロシア軍の侵攻を受けたウクライナへの兵器支援やロシア内部の情報収集でも存在感を発揮した。ジョンソン氏退任後の国際社会の結束には、懸念も残る。\n",
            "\n",
            "一方、国内の経済政策について評価は芳しくなかった。ＥＵ離脱後、移民受け入れを制限したことで労働力が不足し経済が低迷。ウクライナ危機に伴うガソリンや食料の価格高騰に抜本的な対策をとれなかった。\n",
            "\n",
            "そうした中、ジョンソン氏は国民や議員に対して度重なる噓をつき、自身の信頼を地に落とした。英国の首相官邸で新型コロナウイルス対策の行動規制下にあった時期にパーティーが開かれていた不祥事では、自身が参加したにも関わらず議会で「コロナ規制は守ってきた」などと発言した。\n",
            "\n",
            "保守党のピンチャー院内副幹事長が６月末、男性への痴漢行為を報じられたことを受け辞任した不祥事をめぐっては、ピンチャー氏が過去に同様の問題を起こしたことを把握しながら知らないふりをし、官邸も説明を二転三転させた。\n",
            "\n",
            "ジョンソン氏の不誠実な対応は保守党全体の信頼低下につながり、５月の統一地方選では保守党の議席が大幅に減少。６月下旬の議会下院の補欠選挙でも議席を失った。ジョンソン氏は保守党の価値を下げる「最大の負債」（英マンチェスター大のフォード教授）と指摘された。\n",
            "\n",
            "\n",
            "\n",
            "G20外相会合が開幕 日本は夕食会欠席へ  「ロシアいる場」拒否（朝日新聞デジタル） - Yahoo!ニュース\n",
            "https://news.yahoo.co.jp/articles/b1846bbfff0dc6e0e8dfbd858fb020795fb9a90d\n",
            "主要20カ国・地域（G20）の外相会合が開かれる会場では開幕に先立ち、参加国による二国間会談が開かれていた=2022年7月7日、インドネシア・バリ島、リツキ・アクバル撮影　ロシアのウクライナ侵攻後、初めてとなる主要20カ国・地域（G20）の外相会合が7日、インドネシアのバリ島で始まった。8日までの日程で世界的な食糧危機や高騰するエネルギー価格への対応などを議論する。会合にはロシアのラブロフ外相が出席する予定で、ロシア非難を強める欧米日などとの応酬が予想される。\n",
            "\n",
            "【写真】モスクワで6月、記者会見するロシアのラブロフ外相\n",
            "\n",
            "　会合には米国のブリンケン国務長官や中国の王毅（ワンイー）国務委員兼外相、日本の林芳正外相らが出席。議長国のインドネシアが招待したウクライナのクレバ外相もオンライン形式で参加する。\n",
            "\n",
            "　8日の本会合に先立ち、7日は参加国同士の二国間会談があり、夜にはインドネシア外務省主催の夕食会が開かれた。ただインドネシアの外相によると、日本を含む主要7カ国（G7）が夕食会を欠席。林外相は「ラブロフ氏のいる社交の場には出席できない」（日本外務省幹部）と判断したという。ロシアへの対応をめぐり、国際社会の分断が早くも浮き彫りになっている。朝日新聞社\n",
            "\n",
            "\n",
            "\n",
            "全国先駆け『BA.5』に置き換わる島根…急増の背景は？県の感染症対策室長に聞く（テレビ朝日系（ANN）） - Yahoo!ニュース\n",
            "https://news.yahoo.co.jp/articles/269a0a718c823cbf46f617e31e64f8a1b54665f1\n",
            "All Nippon NewsNetwork(ANN)新型コロナの新規感染者が急増しています。全国に先駆けて『BA.5』への置き換わりが進んでいる島根県の現状について、最前線で対策に当たっている県の感染症対策室長・田原研司さんに聞きます。\n",
            "\n",
            "県の遺伝子解析では、5月から6月にかけ、BA.5が拡大。6月に入って、37.8％まで増えました。さらに、最新の数字では76.8％が置き換わっています。東京都は疑い例で33.4％。島根はその倍以上です。その影響もあってか、6月半ばから感染者数が急増しました。年代別で見ると、18歳以下が最も多くなっています。高齢者も増加傾向にあります。\n",
            "\n",
            "（Q．若年層が急増しているということですが、現場の実感としてはどうでしょうか）\n",
            "6月中旬からの感染拡大は、これまでに経験のない大きな波と受け止めています。20代、30代が先に感染し、その2、3日、遅れて、18歳以下が急に感染拡大を示しました。恐らく家庭内感染とみられます。いまでは、子どもたちが学校や保育所で感染を拡大させて、18歳以下が最も多くなっています。ただ、今回の大きな感染拡大の特徴ですが、感染者の数はまだ少ないですが、第6波のBA.1、BA.2のときにみられなかった50～64歳、65歳以上に感染が拡大する傾向がみられています。\n",
            "\n",
            "（Q.患者の症状に以前と違いはありますか）\n",
            "BA.5では、有症状者は多く、発熱するケースもみられますが、総じて軽症例が多い傾向にあります。\n",
            "\n",
            "（Q.軽症例が多くても高齢者は心配ですよね）\n",
            "島根県では感染急拡大のなか、65歳以上の高齢者の感染が増加傾向にあります。現在、35.8％の病床を使っていますが、そのうち85％は高齢者です。今後、感染者が増えてくれば、高齢者のリスクが高くなりますので、対応・対策、いわゆる医療のひっ迫が、懸念される材料だと考えています。\n",
            "\n",
            "（Q.保健所業務のひっ迫具合はどうでしょうか）\n",
            "現在、県東部で流行しています。出雲保健所、松江保健所では業務がひっ迫し、調査が遅延している状況です。遅延を解消するために、県庁では対策本部を設置し、50人規模で、保健所が行う疫学調査を行っています。今後は、倍増、100人規模で実施していく予定です。\n",
            "\n",
            "（Q.BA.5への置き換わりが島根県で顕著な理由をどう考えますか）\n",
            "島根県の保健所の積極的疫学調査のあり方ですが、濃厚接触者の特定はすべて行っています。また、濃厚接触者に限らず、接触者については幅広く検査し、封じ込めを行っています。さらに、陽性者の検体を使って、遺伝子解析、スクリーニングを多く行っています。その結果、現在のBA.5がリアルタイムでスクリーニングできていますので、現在、感染者の大多数がBA.5だということがわかりました。\n",
            "\n",
            "（Q.今後の対策をどう考えますか）\n",
            "県民に基本的感染対策の徹底を呼び掛けていきます。特に3密の回避。この時期は暑いので、熱中症対策を最優先に考えていただき、可能な限りマスクの着用を促していきたいと思います。飲食店の利用に対し、人数、時間の制限をお願いしています。飲食による感染リスクを低減したうえで、飲食の利用を進めていきたいと考えています。テレビ朝日\n",
            "\n",
            "\n",
            "\n",
            "的中率５割の「線状降水帯」予報どう活用？…悩む自治体、専門家「危機感高める役割」（読売新聞オンライン） - Yahoo!ニュース\n",
            "https://news.yahoo.co.jp/articles/3cf9fb72f064a8e6a69eb62d13e9d61d041434eb\n",
            "　集中豪雨をもたらす「線状降水帯」が発生しやすい季節に入った。気象庁が先月から運用を始めた発生予報は住民らの避難準備につながると期待されるが、的中率は約５０％。５日未明に高知県で今年初の発生が確認された際には予測できないなど精度はまだ十分と言えず、活用を巡って自治体の判断が揺れているのが現状だ。専門家は住民の危機感を高める補足情報としての活用法を検討すべきだと指摘している。「空振り」（写真：読売新聞）　線状降水帯の予報は、発生が予想される６～１２時間前に気象庁が対象地域をホームページ（ＨＰ）で発表する。ただし発生メカニズムが未解明のため的中率が低い上、実際に発生する３回のうち「見逃し」も２回あるとしている。全国１１の地域別に出されるが、例えば「九州北部」の場合、山口、大分、福岡、佐賀、熊本、長崎の６県を指しており範囲は広い。　「現時点で予報の周知は考えていない」。２０１７年７月の九州北部豪雨で３人が犠牲になった大分県日田市の担当者は明言する。　自治体が住民に避難を呼びかける「避難指示」などを発令する場合、判断は大雨警報や洪水警報、土砂災害警戒情報などの防災気象情報に基づいている。予報もこの情報の一つだが、自治体が的中率の低い予報を基に情報発信して「空振り」が重なれば住民の信頼を失う恐れがある。日田市の担当者は「市内部で災害リスクを把握するための判断材料としては活用するが、住民にそのまま伝えるには対象地域が広すぎる」と話す。　また、福岡県朝倉市や長野市も「予報が出る頻度やその精度がはっきりしない」として対応を決められないと説明する。準備促す　一方、２０年７月の九州豪雨で甚大な被害が出た熊本県球磨（くま）村は予報に加え、村に大雨警報が発令される可能性が高まった場合に防災無線やＬＩＮＥ（ライン）で周知すると決めた。中渡徹・防災管理官は「避難を促すには線状降水帯というキーワードは重要。自分たちなりに活用したい」と強調する。　３００人超が犠牲になった１８年の西日本豪雨で大きな被害が出た広島市も、大雨警報が発令された際に予報も発表されていれば周知する方針を決定。５日未明の線状降水帯の発生で３日間の雨量が５８０ミリ超に達した高知県四万十町の担当者は「もし予報が出ていれば川の水位の確認などでより迅速な対応ができたかもしれない」と振り返った。\n",
            "\n",
            "\n",
            "\n",
            "中野サンプラザ、2023年7月2日に閉館決定　「記念コンサート」「回顧展」なども検討（J-CASTニュース） - Yahoo!ニュース\n",
            "https://news.yahoo.co.jp/articles/3c8bbd92844d5fdceb6ddb28b0f1328a73207e6e\n",
            "中野サンプラザが23年7月2日に閉館（画像はイメージ）　JR中野駅前の複合施設「中野サンプラザ」（東京都中野区）が2023年7月2日で閉館することが、中野区議会の資料により明らかになった。再開発事業による建て替えのためだ。閉館にあたって「閉館記念コンサート」や「中野サンプラザ回顧展」などの実施を検討する。\n",
            "\n",
            "【写真】中野サンプラザ建て替え後の施設\n",
            "\n",
            "■新施設は2028年度竣工目指す\n",
            "\n",
            "　中野サンプラザは1973年6月に開館。白い三角形の形をした建物が特徴的で、2000席を超えるホールやホテル、レストランなどが入居している。\n",
            "\n",
            "　ホールでは演歌、ロック、アイドルなど幅広いジャンルのコンサートが行われ、音楽好きから親しまれてきた。「Runner」などのヒット曲を生み出したロックバンド「爆風スランプ」のボーカル・サンプラザ中野くんが、自身の芸名のモチーフにしたことでも知られる。\n",
            "\n",
            "　21年5月には野村不動産などによる再開発事業の内容が発表され、現施設を解体の上、最大7000人収容のホールやホテルなどを複合した新施設を整備するとしていた。22年度末の都市計画決定、28年度の施設竣工を目指すとしており、現施設の動向に注目が集まっていた。\n",
            "\n",
            "　22年6月30日に行われた中野区議会総務委員会第2回定例会の資料によると、5月27日に実施された施設運営者の株式会社中野サンプラザと施設所有者の株式会社まちづくり中野21の両取締役会で、施設の閉館が23年7月2日に決定。ホールを除く営業は同年6月末で終了するとした。\n",
            "\n",
            "　閉館にあたっては、中野サンプラザの「レガシーを記憶に残す取り組み」として、「閉館記念コンサート」や「ホールバックステージツアー」、「中野サンプラザ回顧展」などの実施を検討。施設見学会など区民向けのイベントも検討しているとした。\n",
            "\n",
            "\n",
            "\n",
            "意外に多い…「郵便の誤配送」「ゴミ出し」から漏れるヤバすぎる個人情報とトラブル、その対処法（現代ビジネス） - Yahoo!ニュース\n",
            "https://news.yahoo.co.jp/articles/2ee2d6cf8ec70958b3ed117e1fe52507ee3d1d13\n",
            "写真はイメージです。photo by kazuma seki /iStock　マンションといえばその住民人口や密度の増加により、プライバシーの問題が切っても切り離せないものになっていることは言うまでもないでしょう。問題となる案件の中には意外な盲点や、あっけなく漏れてしまう個人情報の重要さに驚かされることも少なくありません。今回はその中でも特に灯台下暗しといえそうな、郵便物のご配送やゴミ出しの問題についてご紹介します。\n",
            "\n",
            "【マンガ】iPhoneが発表された日にアップル株を「100万円」買っていたら表札に名前を出さなくなったために…写真はイメージです。以下同 photo by zoff-photo /iStock　郵便法の規定により、3階以上のマンションではその出入口、またはその付近に集合ポストを設置することが義務付けられています。しかし最近では、個人情報やプライバシーを知られたくないために玄関はもちろん、集合ポストにも名前を書くことを控えている人が増えています。\n",
            "\n",
            "　住人からすると、集合ポストや各住戸の玄関には部屋番号が書いてあるわけですから、名前がなくても配達には支障がないのではと思いがちですが、郵便配達員や宅配業者の方に話を聞くと、「部屋番号だけでなく名前があればダブルチェックができるので、せめて苗字だけでもあったほうがありがたいし誤配することが少なくなって安心」と言っていて、なるほどと思いました。\n",
            "\n",
            "　そして残念なことに、実際に郵便物や宅配物が誤配される事案は思いのほか多く、トラブルにまで発展してしまうというようなご相談も居住者や管理組合から私のところにもたくさん寄せられます。\n",
            "\n",
            "　トラブルには発展しない誤配のケースでは、気がついた方が正しい受取人のポストに投函してあげたり、入り口のポストの上などに目立つように置いたり、管理事務所に届けたりすることなどで解決しているようですが、以下では実際にトラブルになってしまった事例を見てみましょう。トラブルに発展した誤配事件photo by kazuma seki /iStock　都心の分譲マンションで、すでに誰かに開封された郵便物がある受取人の集合ポストに2通も投函されていて管理事務所に苦情が入りました。\n",
            "\n",
            "　受取人は管理会社の担当者から、「おそらく最初に郵便物の誤配があり、誤配された住戸の人が、自分宛の郵便物だと思って2通とも開封したところ誤配に気づいて、そのまま本来の宛先のポストに投函し直してしまったのだと推測されます。このような事案は時々ありますのでそれほどご心配されずとも大丈夫だと思います」と説明を受けました。\n",
            "\n",
            "　しかし郵便物を他人に開封されてしまった居住者の怒りは収まらず、郵便局に苦情を申し入れるとともに管理組合に防犯カメラの確認をして郵便物を誤配した配達員と、再投函した居住者を見つけ出したいという要望書をマンションの理事会に提出しました。\n",
            "\n",
            "　これを受けて理事会で防犯カメラの映像が確認されましたが、カメラの撮影にも限界があります。結局誤配した郵便配達員も再投函した居住者も特定はできませんでした。\n",
            "\n",
            "　このトラブルについては郵便局の説明では、郵便法で『郵便物の誤配達を受けた者は、その郵便物にその旨を表示して郵便差出箱に差し入れ、またはその旨を会社に通知しなければならない』という規定があるため、誤配を受けた人は本来の宛先に投函せず、郵便局に戻すか連絡して取りに来てもらわなければならなかったというのです。\n",
            "\n",
            "　さらに今回のケースのように、誤って他人の郵便物を開封してしまった場合には、郵便法で『誤ってその郵便物を開いた者は、これを修補し、かつ、その旨並びに氏名及び住所又は居所を郵便物に表示しなければならない』という規定があるため、それに従って郵便物をきれいに補修して、郵便物の表面に誤って開封したこと、自分の氏名、住所を記載した紙等を貼って、郵便差出箱(郵便ポスト)に投函するか、最寄りの配達局に連絡する必要があったということでした。\n",
            "\n",
            "　善意であったかもしれませんが、直接該当の居住者のポストに入れたことは適切ではなかったことになります。\n",
            "\n",
            "\n",
            "\n",
            "火であぶっても溶けない、高級アイスが物議 中国（ＡＦＰ＝時事） - Yahoo!ニュース\n",
            "https://news.yahoo.co.jp/articles/b22652f51d8d317d9fcd715e8742fe87407a3980\n",
            "アイスクリームバー（2020年7月15日撮影、資料写真）。【翻訳編集】 AFPBB News【AFP＝時事】「アイスクリームのエルメス（Hermes）」とも呼ばれる中国の高級アイス「鍾薛高（Chicecream）」が、火を近づけても全く溶けないとインターネットで物議を醸している。\n",
            "\n",
            "【写真8枚】ひんやり～、熱波対策に氷のごちそう 独動物園\n",
            "\n",
            "　火であぶってもそのままの形を保っている鍾薛高のアイスバーの動画が拡散。室温31度の部屋に1時間放置しても全く溶けないという。\n",
            "\n",
            "　鍾薛高のアイスは最も高いもので66元（約1300円）することから、価格設定を疑問視する声や、添加物が過剰に使われているのではと懸念する声が上がっている。\n",
            "\n",
            "　鍾薛高は6日、自社の製品は国の安全基準に従っていると説明した。\n",
            "\n",
            "　同社は微博（ウェイボー、Weibo）に「焼いたり、乾燥させたり、温めたりしてアイスクリームの品質を評価するというのは科学的ではない」と投稿。16万8000件以上の「いいね」が付いた。\n",
            "\n",
            "　AFPは火でアイスを焼く動画の真偽を確認できていない。\n",
            "\n",
            "　大量生産されるアイスクリームには通常、安定剤が使われており、米食品医薬品局（FDA）も認可している。【翻訳編集】 AFPBB News\n",
            "\n",
            "\n",
            "\n",
            "20年前のGBAソフト「どうぶつ島のチョビぐるみ」を今でも攻略していた人にまさかの奇跡　「最後の鍵」はずっと身近にあったドラマみたいな本当の話（ねとらぼ） - Yahoo!ニュース\n",
            "https://news.yahoo.co.jp/articles/e88febe263f491855e65d607ea99e7563f3fdb8c\n",
            "奇跡的なドラマを生んだ「どうぶつ島のチョビぐるみ」　19年前からどうしても解けないゲームの謎が、夫が偶然持っていた“あるアイテム”のおかげで攻略できた――。奇跡的なエピソードがTwitterで注目を集めています。編集部は話題の主、らげしばさんに詳細を聞きました。\n",
            "\n",
            "【画像あり】カギとなった「ガチャステダイナデバイス2」\n",
            "\n",
            "　らげしばさんを悩ませていたのは、2003年にロケットカンパニーが発売したゲームボーイアドバンス（GBA）用ソフト「どうぶつ島のチョビぐるみ」。『なかよし』に掲載されていた同名漫画が原作です。手帳に友だちや有名人などのプロフィールを入力すると、それに応じて「チョビぐるみ」が登場。彼らを大勢招いて島での生活を楽しむコミュニケーションゲームです。\n",
            "\n",
            "　らげしばさんは子どものころから遊んでいましたが、チョビぐるみには特殊な条件で登場するものもあり、発売から10年以上遊び続けても、全部はなかなかそろいません。その後攻略ブログを立ち上げたところ、協力してくれる人も現れて、チョビぐるみはコンプリートに近づいていきましたが、最後の1つ「ニジのおうじさま」の出現条件は長らく判明しないままでした。\n",
            "\n",
            "　しかし、同作の開発に携わっていたHikaru HoriuchiさんのSNSアカウントを、協力者が発見してコンタクトをとったことから事態は急転。思い入れのあった作品のファンからお願いされたとあって、Horiuchiさんも開発当時の関係者に呼びかけるなど尽力してくれたのです。\n",
            "\n",
            "　そしてHoriuchiさんのおかげで、とうとう「ニジのおうじさま」に関する有力な情報が判明。それは「GBA2台を通信ケーブルで接続し、それぞれ『どうぶつ島のチョビぐるみ』と、ロケットカンパニーが同年に発売した『ガチャステダイナデバイス2』を起動して通信する」というものでした。確かに当時GBAではこうした通信ケーブルを使ったお遊び要素がしばしばありましたが、これは自力で気付くには難易度が高すぎる……！\n",
            "\n",
            "　ともかく、あとは実際に「ガチャステダイナデバイス2」を手に入れ、情報が本当かどうかを検証するだけ。らげしばさんはさっそく、中古ショップでソフトを捜索……しようとしたそのとき、まさかのドラマが発生しました。夫のてぃがががさんが、急に「ガチャステダイナデバイス2持ってるよ俺」とツイートしたのです（現在はバズりすぎたせいか鍵垢に）。攻略の鍵は青い鳥のごとく、身近な場所にずっといた……！？\n",
            "\n",
            "　夫が学生時代にワゴンセールで入手していたという“鍵”を自宅から発見し、らげしばさんは大興奮。2本のソフトを連携したところ、Horiuchiさんの情報は事実と判明――つまり、長年追い求めていた「ニジのおうじさま」が、とうとうどうぶつ島に姿を現したのです。\n",
            "\n",
            "　長年研究していたゲームを解く鍵を、夫が結婚前から持っていたというよもやの展開。一連の投稿は、「とんでもねー奇跡を見た」「これは運命の赤い糸」「夫こそ本物のおうじさまだったんだ……」と大きな反響を呼びました。\n",
            "\n",
            "　編集部は念願を果たしたらげしばさんと、てぃがががさんに詳しい話を聞きました。\n",
            "\n",
            "\n",
            "\n"
          ]
        }
      ]
    },
    {
      "cell_type": "code",
      "source": [
        "# #Pickupページへ遷移しページの情報を取得\n",
        "# pickup_res = requests.get(pickup_links[0])\n",
        "# pickup_soup = BeautifulSoup(pickup_res.text, \"html.parser\")\n",
        "\n",
        "# #ニュースページへのリンクを取得\n",
        "# pickup_elem = pickup_soup.find(\"p\", class_=\"sc-gvDkQG eXfsnC\")    \n",
        "# news_link = pickup_elem.contents[0].attrs['href']\n",
        "\n",
        "# #ニュースページの情報を取得\n",
        "# news_res = requests.get(news_link)\n",
        "# news_soup = BeautifulSoup(news_res.text, \"html.parser\")\n",
        "\n",
        "# #タイトルとURLを表示\n",
        "# print(news_soup.title.text)\n",
        "# print(news_link)\n",
        "\n",
        "# #ニュースのテキスト情報を取得し表示\n",
        "# detail_text = news_soup.find(class_=re.compile(\"article_body highLightSearchTarget\"))\n",
        "# print(detail_text.text if hasattr(detail_text, \"text\") else '',end='\\n\\n\\n\\n')"
      ],
      "metadata": {
        "id": "JpPR6wmSNqsD"
      },
      "execution_count": 58,
      "outputs": []
    },
    {
      "cell_type": "code",
      "source": [
        "# news_soup.prettify()"
      ],
      "metadata": {
        "id": "ZtK9GjJwcO14"
      },
      "execution_count": 59,
      "outputs": []
    },
    {
      "cell_type": "code",
      "source": [
        ""
      ],
      "metadata": {
        "id": "FPG1b2-wcTFy"
      },
      "execution_count": null,
      "outputs": []
    }
  ]
}