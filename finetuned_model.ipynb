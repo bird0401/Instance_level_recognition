{
  "cells": [
    {
      "cell_type": "code",
      "execution_count": null,
      "id": "3be08d65-e27f-41a1-96cf-c8717a4faa1c",
      "metadata": {
        "id": "3be08d65-e27f-41a1-96cf-c8717a4faa1c"
      },
      "outputs": [],
      "source": [
        "import tensorflow as tf\n",
        "from tensorflow.keras import models,layers\n",
        "from tensorflow.keras.applications import VGG16\n",
        "\n",
        "import numpy as np\n",
        "import pandas as pd\n",
        "import matplotlib.pyplot as plt\n",
        "\n",
        "from PIL import Image\n",
        "import glob"
      ]
    },
    {
      "cell_type": "code",
      "source": [
        "# from google.colab import drive\n",
        "# drive.mount('/content/drive')"
      ],
      "metadata": {
        "id": "qR-wgGALrby4"
      },
      "id": "qR-wgGALrby4",
      "execution_count": null,
      "outputs": []
    },
    {
      "cell_type": "code",
      "source": [
        "# from google.colab import auth\n",
        "# auth.authenticate_user()"
      ],
      "metadata": {
        "id": "S46kOoKKsxDT"
      },
      "id": "S46kOoKKsxDT",
      "execution_count": null,
      "outputs": []
    },
    {
      "cell_type": "code",
      "source": [
        "# from google.cloud import bigquery\n",
        "# from google.cloud import bigquery_storage\n",
        "\n",
        "# client = bigquery.Client(project=\"pixiv-recommend-intern-202202\")\n",
        "# bqstorageclient = bigquery_storage.BigQueryReadClient()\n",
        "\n",
        "# query = '''\n",
        "# SELECT 1;\n",
        "# '''\n",
        "\n",
        "# data = client.query(query).to_dataframe()\n",
        "# frame = data.dropna()"
      ],
      "metadata": {
        "id": "nKnLPOXYtVg4"
      },
      "id": "nKnLPOXYtVg4",
      "execution_count": null,
      "outputs": []
    },
    {
      "cell_type": "code",
      "source": [
        "# frame.head()"
      ],
      "metadata": {
        "id": "U7dZs1GotZXb"
      },
      "id": "U7dZs1GotZXb",
      "execution_count": null,
      "outputs": []
    },
    {
      "cell_type": "code",
      "execution_count": null,
      "id": "66f58b79-eba3-40c2-9d9a-f3fdeaff753a",
      "metadata": {
        "id": "66f58b79-eba3-40c2-9d9a-f3fdeaff753a"
      },
      "outputs": [],
      "source": [
        "from collections import defaultdict"
      ]
    },
    {
      "cell_type": "code",
      "execution_count": null,
      "id": "fec55f38-2120-4489-8f2f-290f70b054b9",
      "metadata": {
        "id": "fec55f38-2120-4489-8f2f-290f70b054b9"
      },
      "outputs": [],
      "source": [
        "from sklearn.model_selection import train_test_split"
      ]
    },
    {
      "cell_type": "code",
      "execution_count": null,
      "id": "37b430b8-1323-40e6-b50c-e2e5072da9af",
      "metadata": {
        "colab": {
          "base_uri": "https://localhost:8080/"
        },
        "id": "37b430b8-1323-40e6-b50c-e2e5072da9af",
        "outputId": "36143715-cd09-4368-fa55-963459723d15"
      },
      "outputs": [
        {
          "output_type": "stream",
          "name": "stdout",
          "text": [
            "2.8.0\n"
          ]
        }
      ],
      "source": [
        "print(tf.__version__)"
      ]
    },
    {
      "cell_type": "code",
      "execution_count": null,
      "id": "78d3fc58-bb57-400a-aac5-8b23c04e4e54",
      "metadata": {
        "colab": {
          "base_uri": "https://localhost:8080/"
        },
        "id": "78d3fc58-bb57-400a-aac5-8b23c04e4e54",
        "outputId": "5da683ab-e553-4f1c-e915-05da6b54b834"
      },
      "outputs": [
        {
          "output_type": "stream",
          "name": "stdout",
          "text": [
            "[name: \"/device:CPU:0\"\n",
            "device_type: \"CPU\"\n",
            "memory_limit: 268435456\n",
            "locality {\n",
            "}\n",
            "incarnation: 1651009441592229062\n",
            "xla_global_id: -1\n",
            ", name: \"/device:GPU:0\"\n",
            "device_type: \"GPU\"\n",
            "memory_limit: 11320098816\n",
            "locality {\n",
            "  bus_id: 1\n",
            "  links {\n",
            "  }\n",
            "}\n",
            "incarnation: 5139809024144045577\n",
            "physical_device_desc: \"device: 0, name: Tesla K80, pci bus id: 0000:00:04.0, compute capability: 3.7\"\n",
            "xla_global_id: 416903419\n",
            "]\n"
          ]
        }
      ],
      "source": [
        "from tensorflow.python.client import device_lib; print(device_lib.list_local_devices())"
      ]
    },
    {
      "cell_type": "code",
      "execution_count": null,
      "id": "5a12edba-3fb7-47cd-9ec7-6a1c15fc5b15",
      "metadata": {
        "colab": {
          "base_uri": "https://localhost:8080/",
          "height": 35
        },
        "id": "5a12edba-3fb7-47cd-9ec7-6a1c15fc5b15",
        "outputId": "6767278b-0645-4ca3-dcbb-539819b7afe7"
      },
      "outputs": [
        {
          "output_type": "execute_result",
          "data": {
            "text/plain": [
              "'/device:GPU:0'"
            ],
            "application/vnd.google.colaboratory.intrinsic+json": {
              "type": "string"
            }
          },
          "metadata": {},
          "execution_count": 120
        }
      ],
      "source": [
        "tf.test.gpu_device_name()"
      ]
    },
    {
      "cell_type": "code",
      "execution_count": null,
      "id": "e9653bdb-12b5-42b4-8646-faa195529177",
      "metadata": {
        "id": "e9653bdb-12b5-42b4-8646-faa195529177"
      },
      "outputs": [],
      "source": [
        "# !gsutil cp gs://pixiv-intern-image/image_2022_03_10_0.zip ."
      ]
    },
    {
      "cell_type": "code",
      "execution_count": null,
      "id": "b35c6a84-ada9-4788-8635-5c247fafd88e",
      "metadata": {
        "tags": [],
        "id": "b35c6a84-ada9-4788-8635-5c247fafd88e"
      },
      "outputs": [],
      "source": [
        "!unzip -d images ./image_2022_03_10_0"
      ]
    },
    {
      "cell_type": "code",
      "execution_count": null,
      "id": "00952a5d-a004-48f6-8369-da88f5d90c0e",
      "metadata": {
        "colab": {
          "base_uri": "https://localhost:8080/"
        },
        "id": "00952a5d-a004-48f6-8369-da88f5d90c0e",
        "outputId": "25ee1eea-a500-4bde-bdee-56a61757fbf6"
      },
      "outputs": [
        {
          "output_type": "stream",
          "name": "stdout",
          "text": [
            "2994\n"
          ]
        }
      ],
      "source": [
        "ls -1 images|wc -l"
      ]
    },
    {
      "cell_type": "code",
      "execution_count": null,
      "id": "a82f81d0-558f-43ce-b73c-c3186b28487e",
      "metadata": {
        "id": "a82f81d0-558f-43ce-b73c-c3186b28487e"
      },
      "outputs": [],
      "source": [
        "# !gsutil cp gs://pixiv-intern-pretrained-model/gumigumi4f_illust2vec_models_50epoch_b0_illust2vec_efficientnetb0_notop.h5 ."
      ]
    },
    {
      "cell_type": "markdown",
      "id": "76bcdb77-dd09-49f2-9e41-c1e6efe51ecb",
      "metadata": {
        "id": "76bcdb77-dd09-49f2-9e41-c1e6efe51ecb"
      },
      "source": [
        "# 前処理"
      ]
    },
    {
      "cell_type": "code",
      "source": [
        "from google.colab import auth\n",
        "auth.authenticate_user()"
      ],
      "metadata": {
        "id": "eBud0GnxvyxV"
      },
      "id": "eBud0GnxvyxV",
      "execution_count": null,
      "outputs": []
    },
    {
      "cell_type": "code",
      "source": [
        "from google.cloud import bigquery\n",
        "from google.cloud import bigquery_storage\n",
        "\n",
        "client = bigquery.Client(project=\"pixiv-recommend-intern-202202\")\n",
        "\n",
        "bqstorageclient = bigquery_storage.BigQueryReadClient()\n",
        "\n",
        "query = '''\n",
        "\n",
        "SELECT * FROM image.image_2022_03_10_0 ;\n",
        "\n",
        "'''\n",
        "\n",
        "df = client.query(query).to_dataframe()\n",
        "df=df.dropna()"
      ],
      "metadata": {
        "id": "_jntMg-esX2p"
      },
      "id": "_jntMg-esX2p",
      "execution_count": null,
      "outputs": []
    },
    {
      "cell_type": "code",
      "execution_count": null,
      "id": "253e647a-d745-4fed-bbce-b228814efaa5",
      "metadata": {
        "colab": {
          "base_uri": "https://localhost:8080/",
          "height": 250
        },
        "id": "253e647a-d745-4fed-bbce-b228814efaa5",
        "outputId": "71c80cfa-2a5e-45dc-e838-34b265f5276f"
      },
      "outputs": [
        {
          "output_type": "execute_result",
          "data": {
            "text/plain": [
              "   illust_id illust_tag                                        img_path\n",
              "0   93450063        cat  2021/10/15/02/59/21/93450063_p0_square1200.jpg\n",
              "1   89084396        cat  2021/04/11/17/27/31/89084396_p0_square1200.jpg\n",
              "2   93478335        cat  2021/10/16/14/47/47/93478335_p0_square1200.jpg\n",
              "3   94379055        cat  2021/11/26/10/13/03/94379055_p0_square1200.jpg\n",
              "4   88590603        cat  2021/03/21/01/02/26/88590603_p0_square1200.jpg"
            ],
            "text/html": [
              "\n",
              "  <div id=\"df-c8b5f1b8-42e4-41b7-a9c8-a82a6dc2bebc\">\n",
              "    <div class=\"colab-df-container\">\n",
              "      <div>\n",
              "<style scoped>\n",
              "    .dataframe tbody tr th:only-of-type {\n",
              "        vertical-align: middle;\n",
              "    }\n",
              "\n",
              "    .dataframe tbody tr th {\n",
              "        vertical-align: top;\n",
              "    }\n",
              "\n",
              "    .dataframe thead th {\n",
              "        text-align: right;\n",
              "    }\n",
              "</style>\n",
              "<table border=\"1\" class=\"dataframe\">\n",
              "  <thead>\n",
              "    <tr style=\"text-align: right;\">\n",
              "      <th></th>\n",
              "      <th>illust_id</th>\n",
              "      <th>illust_tag</th>\n",
              "      <th>img_path</th>\n",
              "    </tr>\n",
              "  </thead>\n",
              "  <tbody>\n",
              "    <tr>\n",
              "      <th>0</th>\n",
              "      <td>93450063</td>\n",
              "      <td>cat</td>\n",
              "      <td>2021/10/15/02/59/21/93450063_p0_square1200.jpg</td>\n",
              "    </tr>\n",
              "    <tr>\n",
              "      <th>1</th>\n",
              "      <td>89084396</td>\n",
              "      <td>cat</td>\n",
              "      <td>2021/04/11/17/27/31/89084396_p0_square1200.jpg</td>\n",
              "    </tr>\n",
              "    <tr>\n",
              "      <th>2</th>\n",
              "      <td>93478335</td>\n",
              "      <td>cat</td>\n",
              "      <td>2021/10/16/14/47/47/93478335_p0_square1200.jpg</td>\n",
              "    </tr>\n",
              "    <tr>\n",
              "      <th>3</th>\n",
              "      <td>94379055</td>\n",
              "      <td>cat</td>\n",
              "      <td>2021/11/26/10/13/03/94379055_p0_square1200.jpg</td>\n",
              "    </tr>\n",
              "    <tr>\n",
              "      <th>4</th>\n",
              "      <td>88590603</td>\n",
              "      <td>cat</td>\n",
              "      <td>2021/03/21/01/02/26/88590603_p0_square1200.jpg</td>\n",
              "    </tr>\n",
              "  </tbody>\n",
              "</table>\n",
              "</div>\n",
              "      <button class=\"colab-df-convert\" onclick=\"convertToInteractive('df-c8b5f1b8-42e4-41b7-a9c8-a82a6dc2bebc')\"\n",
              "              title=\"Convert this dataframe to an interactive table.\"\n",
              "              style=\"display:none;\">\n",
              "        \n",
              "  <svg xmlns=\"http://www.w3.org/2000/svg\" height=\"24px\"viewBox=\"0 0 24 24\"\n",
              "       width=\"24px\">\n",
              "    <path d=\"M0 0h24v24H0V0z\" fill=\"none\"/>\n",
              "    <path d=\"M18.56 5.44l.94 2.06.94-2.06 2.06-.94-2.06-.94-.94-2.06-.94 2.06-2.06.94zm-11 1L8.5 8.5l.94-2.06 2.06-.94-2.06-.94L8.5 2.5l-.94 2.06-2.06.94zm10 10l.94 2.06.94-2.06 2.06-.94-2.06-.94-.94-2.06-.94 2.06-2.06.94z\"/><path d=\"M17.41 7.96l-1.37-1.37c-.4-.4-.92-.59-1.43-.59-.52 0-1.04.2-1.43.59L10.3 9.45l-7.72 7.72c-.78.78-.78 2.05 0 2.83L4 21.41c.39.39.9.59 1.41.59.51 0 1.02-.2 1.41-.59l7.78-7.78 2.81-2.81c.8-.78.8-2.07 0-2.86zM5.41 20L4 18.59l7.72-7.72 1.47 1.35L5.41 20z\"/>\n",
              "  </svg>\n",
              "      </button>\n",
              "      \n",
              "  <style>\n",
              "    .colab-df-container {\n",
              "      display:flex;\n",
              "      flex-wrap:wrap;\n",
              "      gap: 12px;\n",
              "    }\n",
              "\n",
              "    .colab-df-convert {\n",
              "      background-color: #E8F0FE;\n",
              "      border: none;\n",
              "      border-radius: 50%;\n",
              "      cursor: pointer;\n",
              "      display: none;\n",
              "      fill: #1967D2;\n",
              "      height: 32px;\n",
              "      padding: 0 0 0 0;\n",
              "      width: 32px;\n",
              "    }\n",
              "\n",
              "    .colab-df-convert:hover {\n",
              "      background-color: #E2EBFA;\n",
              "      box-shadow: 0px 1px 2px rgba(60, 64, 67, 0.3), 0px 1px 3px 1px rgba(60, 64, 67, 0.15);\n",
              "      fill: #174EA6;\n",
              "    }\n",
              "\n",
              "    [theme=dark] .colab-df-convert {\n",
              "      background-color: #3B4455;\n",
              "      fill: #D2E3FC;\n",
              "    }\n",
              "\n",
              "    [theme=dark] .colab-df-convert:hover {\n",
              "      background-color: #434B5C;\n",
              "      box-shadow: 0px 1px 3px 1px rgba(0, 0, 0, 0.15);\n",
              "      filter: drop-shadow(0px 1px 2px rgba(0, 0, 0, 0.3));\n",
              "      fill: #FFFFFF;\n",
              "    }\n",
              "  </style>\n",
              "\n",
              "      <script>\n",
              "        const buttonEl =\n",
              "          document.querySelector('#df-c8b5f1b8-42e4-41b7-a9c8-a82a6dc2bebc button.colab-df-convert');\n",
              "        buttonEl.style.display =\n",
              "          google.colab.kernel.accessAllowed ? 'block' : 'none';\n",
              "\n",
              "        async function convertToInteractive(key) {\n",
              "          const element = document.querySelector('#df-c8b5f1b8-42e4-41b7-a9c8-a82a6dc2bebc');\n",
              "          const dataTable =\n",
              "            await google.colab.kernel.invokeFunction('convertToInteractive',\n",
              "                                                     [key], {});\n",
              "          if (!dataTable) return;\n",
              "\n",
              "          const docLinkHtml = 'Like what you see? Visit the ' +\n",
              "            '<a target=\"_blank\" href=https://colab.research.google.com/notebooks/data_table.ipynb>data table notebook</a>'\n",
              "            + ' to learn more about interactive tables.';\n",
              "          element.innerHTML = '';\n",
              "          dataTable['output_type'] = 'display_data';\n",
              "          await google.colab.output.renderOutput(dataTable, element);\n",
              "          const docLink = document.createElement('div');\n",
              "          docLink.innerHTML = docLinkHtml;\n",
              "          element.appendChild(docLink);\n",
              "        }\n",
              "      </script>\n",
              "    </div>\n",
              "  </div>\n",
              "  "
            ]
          },
          "metadata": {},
          "execution_count": 139
        }
      ],
      "source": [
        "# table=\"bquxjob_5f67a588_17f8c6d5415.csv\"\n",
        "# df=pd.read_csv(table)\n",
        "df.head()"
      ]
    },
    {
      "cell_type": "code",
      "execution_count": null,
      "id": "20bdcc4f-5c55-438e-a1e0-48ddb724bfff",
      "metadata": {
        "colab": {
          "base_uri": "https://localhost:8080/",
          "height": 467
        },
        "id": "20bdcc4f-5c55-438e-a1e0-48ddb724bfff",
        "outputId": "9a0d64c0-211c-42a1-de8f-d5bdfc55961e"
      },
      "outputs": [
        {
          "output_type": "execute_result",
          "data": {
            "text/plain": [
              "     illust_id illust_tag                                        img_path\n",
              "0     93450063        cat  2021/10/15/02/59/21/93450063_p0_square1200.jpg\n",
              "1     89084396        cat  2021/04/11/17/27/31/89084396_p0_square1200.jpg\n",
              "2     93478335        cat  2021/10/16/14/47/47/93478335_p0_square1200.jpg\n",
              "3     94379055        cat  2021/11/26/10/13/03/94379055_p0_square1200.jpg\n",
              "4     88590603        cat  2021/03/21/01/02/26/88590603_p0_square1200.jpg\n",
              "..         ...        ...                                             ...\n",
              "425   91249185         人魚  2021/07/15/01/13/00/91249185_p0_square1200.jpg\n",
              "426   91297462         人魚  2021/07/17/10/52/55/91297462_p0_square1200.jpg\n",
              "427   91974799         人魚  2021/08/14/20/22/50/91974799_p0_square1200.jpg\n",
              "428   89443953         人魚  2021/04/28/13/51/54/89443953_p0_square1200.jpg\n",
              "429   89180391         人魚  2021/04/16/09/41/42/89180391_p0_square1200.jpg\n",
              "\n",
              "[100 rows x 3 columns]"
            ],
            "text/html": [
              "\n",
              "  <div id=\"df-227504d9-83e6-47b3-a1ba-9ad2fcaa151d\">\n",
              "    <div class=\"colab-df-container\">\n",
              "      <div>\n",
              "<style scoped>\n",
              "    .dataframe tbody tr th:only-of-type {\n",
              "        vertical-align: middle;\n",
              "    }\n",
              "\n",
              "    .dataframe tbody tr th {\n",
              "        vertical-align: top;\n",
              "    }\n",
              "\n",
              "    .dataframe thead th {\n",
              "        text-align: right;\n",
              "    }\n",
              "</style>\n",
              "<table border=\"1\" class=\"dataframe\">\n",
              "  <thead>\n",
              "    <tr style=\"text-align: right;\">\n",
              "      <th></th>\n",
              "      <th>illust_id</th>\n",
              "      <th>illust_tag</th>\n",
              "      <th>img_path</th>\n",
              "    </tr>\n",
              "  </thead>\n",
              "  <tbody>\n",
              "    <tr>\n",
              "      <th>0</th>\n",
              "      <td>93450063</td>\n",
              "      <td>cat</td>\n",
              "      <td>2021/10/15/02/59/21/93450063_p0_square1200.jpg</td>\n",
              "    </tr>\n",
              "    <tr>\n",
              "      <th>1</th>\n",
              "      <td>89084396</td>\n",
              "      <td>cat</td>\n",
              "      <td>2021/04/11/17/27/31/89084396_p0_square1200.jpg</td>\n",
              "    </tr>\n",
              "    <tr>\n",
              "      <th>2</th>\n",
              "      <td>93478335</td>\n",
              "      <td>cat</td>\n",
              "      <td>2021/10/16/14/47/47/93478335_p0_square1200.jpg</td>\n",
              "    </tr>\n",
              "    <tr>\n",
              "      <th>3</th>\n",
              "      <td>94379055</td>\n",
              "      <td>cat</td>\n",
              "      <td>2021/11/26/10/13/03/94379055_p0_square1200.jpg</td>\n",
              "    </tr>\n",
              "    <tr>\n",
              "      <th>4</th>\n",
              "      <td>88590603</td>\n",
              "      <td>cat</td>\n",
              "      <td>2021/03/21/01/02/26/88590603_p0_square1200.jpg</td>\n",
              "    </tr>\n",
              "    <tr>\n",
              "      <th>...</th>\n",
              "      <td>...</td>\n",
              "      <td>...</td>\n",
              "      <td>...</td>\n",
              "    </tr>\n",
              "    <tr>\n",
              "      <th>425</th>\n",
              "      <td>91249185</td>\n",
              "      <td>人魚</td>\n",
              "      <td>2021/07/15/01/13/00/91249185_p0_square1200.jpg</td>\n",
              "    </tr>\n",
              "    <tr>\n",
              "      <th>426</th>\n",
              "      <td>91297462</td>\n",
              "      <td>人魚</td>\n",
              "      <td>2021/07/17/10/52/55/91297462_p0_square1200.jpg</td>\n",
              "    </tr>\n",
              "    <tr>\n",
              "      <th>427</th>\n",
              "      <td>91974799</td>\n",
              "      <td>人魚</td>\n",
              "      <td>2021/08/14/20/22/50/91974799_p0_square1200.jpg</td>\n",
              "    </tr>\n",
              "    <tr>\n",
              "      <th>428</th>\n",
              "      <td>89443953</td>\n",
              "      <td>人魚</td>\n",
              "      <td>2021/04/28/13/51/54/89443953_p0_square1200.jpg</td>\n",
              "    </tr>\n",
              "    <tr>\n",
              "      <th>429</th>\n",
              "      <td>89180391</td>\n",
              "      <td>人魚</td>\n",
              "      <td>2021/04/16/09/41/42/89180391_p0_square1200.jpg</td>\n",
              "    </tr>\n",
              "  </tbody>\n",
              "</table>\n",
              "<p>100 rows × 3 columns</p>\n",
              "</div>\n",
              "      <button class=\"colab-df-convert\" onclick=\"convertToInteractive('df-227504d9-83e6-47b3-a1ba-9ad2fcaa151d')\"\n",
              "              title=\"Convert this dataframe to an interactive table.\"\n",
              "              style=\"display:none;\">\n",
              "        \n",
              "  <svg xmlns=\"http://www.w3.org/2000/svg\" height=\"24px\"viewBox=\"0 0 24 24\"\n",
              "       width=\"24px\">\n",
              "    <path d=\"M0 0h24v24H0V0z\" fill=\"none\"/>\n",
              "    <path d=\"M18.56 5.44l.94 2.06.94-2.06 2.06-.94-2.06-.94-.94-2.06-.94 2.06-2.06.94zm-11 1L8.5 8.5l.94-2.06 2.06-.94-2.06-.94L8.5 2.5l-.94 2.06-2.06.94zm10 10l.94 2.06.94-2.06 2.06-.94-2.06-.94-.94-2.06-.94 2.06-2.06.94z\"/><path d=\"M17.41 7.96l-1.37-1.37c-.4-.4-.92-.59-1.43-.59-.52 0-1.04.2-1.43.59L10.3 9.45l-7.72 7.72c-.78.78-.78 2.05 0 2.83L4 21.41c.39.39.9.59 1.41.59.51 0 1.02-.2 1.41-.59l7.78-7.78 2.81-2.81c.8-.78.8-2.07 0-2.86zM5.41 20L4 18.59l7.72-7.72 1.47 1.35L5.41 20z\"/>\n",
              "  </svg>\n",
              "      </button>\n",
              "      \n",
              "  <style>\n",
              "    .colab-df-container {\n",
              "      display:flex;\n",
              "      flex-wrap:wrap;\n",
              "      gap: 12px;\n",
              "    }\n",
              "\n",
              "    .colab-df-convert {\n",
              "      background-color: #E8F0FE;\n",
              "      border: none;\n",
              "      border-radius: 50%;\n",
              "      cursor: pointer;\n",
              "      display: none;\n",
              "      fill: #1967D2;\n",
              "      height: 32px;\n",
              "      padding: 0 0 0 0;\n",
              "      width: 32px;\n",
              "    }\n",
              "\n",
              "    .colab-df-convert:hover {\n",
              "      background-color: #E2EBFA;\n",
              "      box-shadow: 0px 1px 2px rgba(60, 64, 67, 0.3), 0px 1px 3px 1px rgba(60, 64, 67, 0.15);\n",
              "      fill: #174EA6;\n",
              "    }\n",
              "\n",
              "    [theme=dark] .colab-df-convert {\n",
              "      background-color: #3B4455;\n",
              "      fill: #D2E3FC;\n",
              "    }\n",
              "\n",
              "    [theme=dark] .colab-df-convert:hover {\n",
              "      background-color: #434B5C;\n",
              "      box-shadow: 0px 1px 3px 1px rgba(0, 0, 0, 0.15);\n",
              "      filter: drop-shadow(0px 1px 2px rgba(0, 0, 0, 0.3));\n",
              "      fill: #FFFFFF;\n",
              "    }\n",
              "  </style>\n",
              "\n",
              "      <script>\n",
              "        const buttonEl =\n",
              "          document.querySelector('#df-227504d9-83e6-47b3-a1ba-9ad2fcaa151d button.colab-df-convert');\n",
              "        buttonEl.style.display =\n",
              "          google.colab.kernel.accessAllowed ? 'block' : 'none';\n",
              "\n",
              "        async function convertToInteractive(key) {\n",
              "          const element = document.querySelector('#df-227504d9-83e6-47b3-a1ba-9ad2fcaa151d');\n",
              "          const dataTable =\n",
              "            await google.colab.kernel.invokeFunction('convertToInteractive',\n",
              "                                                     [key], {});\n",
              "          if (!dataTable) return;\n",
              "\n",
              "          const docLinkHtml = 'Like what you see? Visit the ' +\n",
              "            '<a target=\"_blank\" href=https://colab.research.google.com/notebooks/data_table.ipynb>data table notebook</a>'\n",
              "            + ' to learn more about interactive tables.';\n",
              "          element.innerHTML = '';\n",
              "          dataTable['output_type'] = 'display_data';\n",
              "          await google.colab.output.renderOutput(dataTable, element);\n",
              "          const docLink = document.createElement('div');\n",
              "          docLink.innerHTML = docLinkHtml;\n",
              "          element.appendChild(docLink);\n",
              "        }\n",
              "      </script>\n",
              "    </div>\n",
              "  </div>\n",
              "  "
            ]
          },
          "metadata": {},
          "execution_count": 140
        }
      ],
      "source": [
        "# tags=set([\"NARUTO\",\"cat\",\"けものフレンズ\",\"エヴァ\",\"ジョジョの奇妙な冒険\",\"ドラゴン\",\"ミクの日\",\"人魚\",\"傘\",\"牛\"])\n",
        "# tags=[\"cat\",\"けものフレンズ\",\"エヴァ\",\"ジョジョの奇妙な冒険\",\"NARUTO\",\"ドラゴン\",\"ミクの日\",\"人魚\",\"傘\",\"牛\"]\n",
        "tags=[\"cat\",\"けものフレンズ\",\"エヴァ\",\"ジョジョの奇妙な冒険\",\"女子高生\",\"ドラゴン\",\"ミクの日\",\"人魚\",\"傘\",\"牛\"]\n",
        "df=df[df[\"illust_tag\"].isin(tags)]\n",
        "df.head(100)"
      ]
    },
    {
      "cell_type": "code",
      "execution_count": null,
      "id": "3d85a2ac-4599-4f07-a6c4-13d0b05485f7",
      "metadata": {
        "colab": {
          "base_uri": "https://localhost:8080/"
        },
        "id": "3d85a2ac-4599-4f07-a6c4-13d0b05485f7",
        "outputId": "90f4bd55-1b93-47ff-d253-c74d86f1cd76"
      },
      "outputs": [
        {
          "output_type": "execute_result",
          "data": {
            "text/plain": [
              "300"
            ]
          },
          "metadata": {},
          "execution_count": 141
        }
      ],
      "source": [
        "len(df)"
      ]
    },
    {
      "cell_type": "code",
      "execution_count": null,
      "id": "2786e255-91b8-46d1-a9b4-31093da591c2",
      "metadata": {
        "id": "2786e255-91b8-46d1-a9b4-31093da591c2"
      },
      "outputs": [],
      "source": [
        "tags=df[\"illust_tag\"]\n",
        "paths=df[\"img_path\"]\n",
        "\n",
        "\n",
        "files=[]\n",
        "for path in paths:\n",
        "    file=path.split(\"/\")[6]\n",
        "    files.append(file)\n",
        "    \n",
        "file_tag_dic=defaultdict(str)\n",
        "for tag,file in zip(tags,files):\n",
        "    file_tag_dic[file]=tag"
      ]
    },
    {
      "cell_type": "code",
      "execution_count": null,
      "id": "4d0669be-8b5c-4eff-8e82-1a2ae86b5c85",
      "metadata": {
        "colab": {
          "base_uri": "https://localhost:8080/"
        },
        "id": "4d0669be-8b5c-4eff-8e82-1a2ae86b5c85",
        "outputId": "45f6297f-dfe5-401b-9b65-df3043609d17"
      },
      "outputs": [
        {
          "output_type": "execute_result",
          "data": {
            "text/plain": [
              "{'cat', 'けものフレンズ', 'エヴァ', 'ジョジョの奇妙な冒険', 'ドラゴン', 'ミクの日', '人魚', '傘', '女子高生', '牛'}"
            ]
          },
          "metadata": {},
          "execution_count": 180
        }
      ],
      "source": [
        "set(tags)"
      ]
    },
    {
      "cell_type": "code",
      "execution_count": null,
      "id": "f31acaae-f56c-452f-8637-2b07c1dfc288",
      "metadata": {
        "colab": {
          "base_uri": "https://localhost:8080/"
        },
        "id": "f31acaae-f56c-452f-8637-2b07c1dfc288",
        "outputId": "183e89d8-2cb2-47b3-c371-1b7a33930f9f"
      },
      "outputs": [
        {
          "output_type": "execute_result",
          "data": {
            "text/plain": [
              "300"
            ]
          },
          "metadata": {},
          "execution_count": 181
        }
      ],
      "source": [
        "len(file_tag_dic)"
      ]
    },
    {
      "cell_type": "code",
      "execution_count": null,
      "id": "09f4d960-2a1b-4920-a904-b185a3c178d3",
      "metadata": {
        "id": "09f4d960-2a1b-4920-a904-b185a3c178d3"
      },
      "outputs": [],
      "source": [
        "# image=np.array(Image.open(\"86738243_p0_master1200.jpeg\").convert(\"RGB\").resize((224, 224)))"
      ]
    },
    {
      "cell_type": "code",
      "execution_count": null,
      "id": "120aefdf-86cb-4b2c-8a43-a0eeee684aa4",
      "metadata": {
        "id": "120aefdf-86cb-4b2c-8a43-a0eeee684aa4"
      },
      "outputs": [],
      "source": [
        "paths = glob.glob('./images/*.jpg')"
      ]
    },
    {
      "cell_type": "code",
      "source": [
        "paths[:10]"
      ],
      "metadata": {
        "colab": {
          "base_uri": "https://localhost:8080/"
        },
        "id": "MQk0f5ehx0FA",
        "outputId": "225162fb-32f5-4611-a253-3895cacb29a1"
      },
      "id": "MQk0f5ehx0FA",
      "execution_count": null,
      "outputs": [
        {
          "output_type": "execute_result",
          "data": {
            "text/plain": [
              "['./images/87137661_p0_square1200.jpg',\n",
              " './images/92635227_p0_square1200.jpg',\n",
              " './images/87571950_p0_square1200.jpg',\n",
              " './images/94734932_p0_square1200.jpg',\n",
              " './images/89001509_p0_square1200.jpg',\n",
              " './images/87756307_p0_square1200.jpg',\n",
              " './images/88169988_p0_square1200.jpg',\n",
              " './images/91622586_p0_square1200.jpg',\n",
              " './images/94640904_p0_square1200.jpg',\n",
              " './images/92155037_p0_square1200.jpg']"
            ]
          },
          "metadata": {},
          "execution_count": 187
        }
      ]
    },
    {
      "cell_type": "code",
      "source": [
        "paths[1].split(\"/\")"
      ],
      "metadata": {
        "colab": {
          "base_uri": "https://localhost:8080/"
        },
        "id": "ELn3R5lkx8Xn",
        "outputId": "47dfd1ae-897e-4579-8939-e483a4ccdfec"
      },
      "id": "ELn3R5lkx8Xn",
      "execution_count": null,
      "outputs": [
        {
          "output_type": "execute_result",
          "data": {
            "text/plain": [
              "['.', 'images', '92635227_p0_square1200.jpg']"
            ]
          },
          "metadata": {},
          "execution_count": 189
        }
      ]
    },
    {
      "cell_type": "code",
      "execution_count": null,
      "id": "b62e3841-faf6-44e6-81ea-a65ad7c8a64f",
      "metadata": {
        "tags": [],
        "colab": {
          "base_uri": "https://localhost:8080/"
        },
        "id": "b62e3841-faf6-44e6-81ea-a65ad7c8a64f",
        "outputId": "9dff49cc-9ea2-425f-e591-70b1ec0584b9"
      },
      "outputs": [
        {
          "output_type": "stream",
          "name": "stdout",
          "text": [
            "cannot identify image file './images/88679615_p0_square1200.jpg'\n",
            "cannot identify image file './images/89592731_p0_square1200.jpg'\n",
            "cannot identify image file './images/88580451_p0_square1200.jpg'\n",
            "cannot identify image file './images/92359459_p0_square1200.jpg'\n",
            "cannot identify image file './images/91651315_p0_square1200.jpg'\n",
            "cannot identify image file './images/93570667_p0_square1200.jpg'\n",
            "cannot identify image file './images/92384070_p0_square1200.jpg'\n",
            "cannot identify image file './images/88394014_p0_square1200.jpg'\n"
          ]
        }
      ],
      "source": [
        "imgs,tags=[],[]\n",
        "for path in paths:\n",
        "    try:\n",
        "        _,_,file_name=path.split(\"/\")\n",
        "        if file_name not in file_tag_dic.keys():continue\n",
        "        img=np.array(Image.open(path).convert(\"RGB\").resize((224, 224)))\n",
        "    except Exception as e:\n",
        "        print(e)\n",
        "    else:\n",
        "        imgs.append(img.reshape(224, 224, 3))\n",
        "        file_name=path.split(\"/\")[2]\n",
        "        tags.append(file_tag_dic[file_name])"
      ]
    },
    {
      "cell_type": "code",
      "execution_count": null,
      "id": "7084b274-4218-449d-b8c8-d3cc2cdf8f5f",
      "metadata": {
        "id": "7084b274-4218-449d-b8c8-d3cc2cdf8f5f"
      },
      "outputs": [],
      "source": [
        "# tags=np.array(tags)"
      ]
    },
    {
      "cell_type": "code",
      "source": [
        "tags"
      ],
      "metadata": {
        "colab": {
          "base_uri": "https://localhost:8080/"
        },
        "id": "se_bhplXxLbz",
        "outputId": "7cc727c8-104b-4153-95d9-39c97e98c550"
      },
      "id": "se_bhplXxLbz",
      "execution_count": null,
      "outputs": [
        {
          "output_type": "execute_result",
          "data": {
            "text/plain": [
              "['傘',\n",
              " 'エヴァ',\n",
              " 'ジョジョの奇妙な冒険',\n",
              " '傘',\n",
              " 'エヴァ',\n",
              " 'けものフレンズ',\n",
              " 'ドラゴン',\n",
              " 'ドラゴン',\n",
              " 'ミクの日',\n",
              " 'cat',\n",
              " '傘',\n",
              " 'cat',\n",
              " '女子高生',\n",
              " '人魚',\n",
              " 'ジョジョの奇妙な冒険',\n",
              " 'cat',\n",
              " 'エヴァ',\n",
              " 'ドラゴン',\n",
              " 'けものフレンズ',\n",
              " '人魚',\n",
              " '牛',\n",
              " '牛',\n",
              " 'ミクの日',\n",
              " 'エヴァ',\n",
              " 'ミクの日',\n",
              " 'エヴァ',\n",
              " '傘',\n",
              " 'ジョジョの奇妙な冒険',\n",
              " 'けものフレンズ',\n",
              " 'エヴァ',\n",
              " 'エヴァ',\n",
              " '牛',\n",
              " 'cat',\n",
              " 'cat',\n",
              " 'ジョジョの奇妙な冒険',\n",
              " 'ジョジョの奇妙な冒険',\n",
              " 'エヴァ',\n",
              " '人魚',\n",
              " 'エヴァ',\n",
              " 'エヴァ',\n",
              " 'ミクの日',\n",
              " '牛',\n",
              " 'cat',\n",
              " 'ドラゴン',\n",
              " '牛',\n",
              " '牛',\n",
              " 'けものフレンズ',\n",
              " 'けものフレンズ',\n",
              " '人魚',\n",
              " 'ジョジョの奇妙な冒険',\n",
              " 'cat',\n",
              " '牛',\n",
              " 'エヴァ',\n",
              " 'エヴァ',\n",
              " 'cat',\n",
              " 'ジョジョの奇妙な冒険',\n",
              " 'ドラゴン',\n",
              " 'ミクの日',\n",
              " 'エヴァ',\n",
              " '女子高生',\n",
              " 'ミクの日',\n",
              " 'エヴァ',\n",
              " 'cat',\n",
              " '傘',\n",
              " 'cat',\n",
              " 'けものフレンズ',\n",
              " 'ジョジョの奇妙な冒険',\n",
              " 'ドラゴン',\n",
              " 'けものフレンズ',\n",
              " 'cat',\n",
              " '女子高生',\n",
              " 'ドラゴン',\n",
              " '人魚',\n",
              " 'ドラゴン',\n",
              " 'ドラゴン',\n",
              " '人魚',\n",
              " '女子高生',\n",
              " 'エヴァ',\n",
              " '人魚',\n",
              " '女子高生',\n",
              " '人魚',\n",
              " 'ジョジョの奇妙な冒険',\n",
              " '女子高生',\n",
              " 'ミクの日',\n",
              " 'エヴァ',\n",
              " 'ミクの日',\n",
              " '女子高生',\n",
              " 'ドラゴン',\n",
              " 'ドラゴン',\n",
              " '人魚',\n",
              " 'cat',\n",
              " '人魚',\n",
              " 'エヴァ',\n",
              " 'ドラゴン',\n",
              " 'ドラゴン',\n",
              " 'cat',\n",
              " 'ミクの日',\n",
              " 'ジョジョの奇妙な冒険',\n",
              " 'エヴァ',\n",
              " 'けものフレンズ',\n",
              " '傘',\n",
              " 'けものフレンズ',\n",
              " '女子高生',\n",
              " 'エヴァ',\n",
              " 'エヴァ',\n",
              " 'けものフレンズ',\n",
              " 'ジョジョの奇妙な冒険',\n",
              " 'cat',\n",
              " 'けものフレンズ',\n",
              " 'ミクの日',\n",
              " 'ジョジョの奇妙な冒険',\n",
              " 'ジョジョの奇妙な冒険',\n",
              " '傘',\n",
              " '人魚',\n",
              " 'ドラゴン',\n",
              " '人魚',\n",
              " '傘',\n",
              " '牛',\n",
              " '人魚',\n",
              " '牛',\n",
              " '人魚',\n",
              " '傘',\n",
              " '傘',\n",
              " '女子高生',\n",
              " '牛',\n",
              " '傘',\n",
              " 'ドラゴン',\n",
              " 'ジョジョの奇妙な冒険',\n",
              " '傘',\n",
              " 'けものフレンズ',\n",
              " '牛',\n",
              " 'ドラゴン',\n",
              " '女子高生',\n",
              " '牛',\n",
              " 'けものフレンズ',\n",
              " 'ミクの日',\n",
              " 'ドラゴン',\n",
              " 'エヴァ',\n",
              " '傘',\n",
              " '牛',\n",
              " 'エヴァ',\n",
              " '牛',\n",
              " 'cat',\n",
              " '女子高生',\n",
              " 'ドラゴン',\n",
              " '女子高生',\n",
              " 'ジョジョの奇妙な冒険',\n",
              " '人魚',\n",
              " '傘',\n",
              " '牛',\n",
              " 'ドラゴン',\n",
              " 'ジョジョの奇妙な冒険',\n",
              " '牛',\n",
              " '傘',\n",
              " 'けものフレンズ',\n",
              " 'ドラゴン',\n",
              " '人魚',\n",
              " 'ジョジョの奇妙な冒険',\n",
              " '傘',\n",
              " '牛',\n",
              " 'エヴァ',\n",
              " 'けものフレンズ',\n",
              " '女子高生',\n",
              " 'ジョジョの奇妙な冒険',\n",
              " 'ドラゴン',\n",
              " 'cat',\n",
              " '女子高生',\n",
              " 'けものフレンズ',\n",
              " 'ジョジョの奇妙な冒険',\n",
              " 'ミクの日',\n",
              " '女子高生',\n",
              " '人魚',\n",
              " 'ドラゴン',\n",
              " 'けものフレンズ',\n",
              " 'けものフレンズ',\n",
              " 'cat',\n",
              " '人魚',\n",
              " 'cat',\n",
              " '傘',\n",
              " 'cat',\n",
              " '人魚',\n",
              " 'ドラゴン',\n",
              " 'ミクの日',\n",
              " 'ミクの日',\n",
              " '牛',\n",
              " 'ミクの日',\n",
              " '人魚',\n",
              " '人魚',\n",
              " 'けものフレンズ',\n",
              " '女子高生',\n",
              " '傘',\n",
              " '女子高生',\n",
              " '女子高生',\n",
              " 'ジョジョの奇妙な冒険',\n",
              " '牛',\n",
              " '傘',\n",
              " '女子高生',\n",
              " '女子高生',\n",
              " '傘',\n",
              " 'ジョジョの奇妙な冒険',\n",
              " 'ドラゴン',\n",
              " '女子高生',\n",
              " 'ジョジョの奇妙な冒険',\n",
              " '女子高生',\n",
              " 'cat',\n",
              " 'けものフレンズ',\n",
              " 'ミクの日',\n",
              " '傘',\n",
              " '人魚',\n",
              " 'ドラゴン',\n",
              " '牛',\n",
              " 'ジョジョの奇妙な冒険',\n",
              " '傘',\n",
              " 'ドラゴン',\n",
              " 'ドラゴン',\n",
              " 'ミクの日',\n",
              " '女子高生',\n",
              " 'cat',\n",
              " 'けものフレンズ',\n",
              " 'cat',\n",
              " 'ミクの日',\n",
              " 'cat',\n",
              " '人魚',\n",
              " '人魚',\n",
              " 'ミクの日',\n",
              " '牛',\n",
              " 'ジョジョの奇妙な冒険',\n",
              " '牛',\n",
              " '牛',\n",
              " '牛',\n",
              " 'cat',\n",
              " 'cat',\n",
              " 'エヴァ',\n",
              " 'ミクの日',\n",
              " '牛',\n",
              " 'ミクの日',\n",
              " 'cat',\n",
              " '牛',\n",
              " 'エヴァ',\n",
              " 'けものフレンズ',\n",
              " 'ジョジョの奇妙な冒険',\n",
              " '牛',\n",
              " '傘',\n",
              " '女子高生',\n",
              " '牛',\n",
              " 'ミクの日',\n",
              " 'cat',\n",
              " 'ミクの日',\n",
              " 'ジョジョの奇妙な冒険',\n",
              " 'ミクの日',\n",
              " '人魚',\n",
              " 'ドラゴン',\n",
              " 'ミクの日',\n",
              " 'けものフレンズ',\n",
              " '牛',\n",
              " '傘',\n",
              " 'けものフレンズ',\n",
              " 'けものフレンズ',\n",
              " '傘',\n",
              " '傘',\n",
              " '女子高生',\n",
              " 'ミクの日',\n",
              " 'ジョジョの奇妙な冒険',\n",
              " '女子高生',\n",
              " '人魚',\n",
              " 'けものフレンズ',\n",
              " '傘',\n",
              " 'cat',\n",
              " '人魚',\n",
              " '人魚',\n",
              " 'ドラゴン',\n",
              " 'エヴァ',\n",
              " '女子高生',\n",
              " '女子高生',\n",
              " 'ドラゴン',\n",
              " 'ミクの日',\n",
              " '傘',\n",
              " '人魚',\n",
              " 'ミクの日',\n",
              " '女子高生',\n",
              " 'ミクの日',\n",
              " 'ミクの日',\n",
              " 'けものフレンズ',\n",
              " 'けものフレンズ',\n",
              " 'エヴァ',\n",
              " 'けものフレンズ',\n",
              " 'エヴァ',\n",
              " '人魚',\n",
              " 'けものフレンズ',\n",
              " 'cat',\n",
              " '女子高生',\n",
              " 'ジョジョの奇妙な冒険']"
            ]
          },
          "metadata": {},
          "execution_count": 192
        }
      ]
    },
    {
      "cell_type": "code",
      "execution_count": null,
      "id": "4f2c3702-f65a-4471-baea-ed9cce15da8c",
      "metadata": {
        "id": "4f2c3702-f65a-4471-baea-ed9cce15da8c"
      },
      "outputs": [],
      "source": [
        "from sklearn import preprocessing\n",
        "le = preprocessing.LabelEncoder()\n",
        "\n",
        "tags_id = le.fit_transform(tags)"
      ]
    },
    {
      "cell_type": "code",
      "source": [
        "tags_id"
      ],
      "metadata": {
        "colab": {
          "base_uri": "https://localhost:8080/"
        },
        "id": "LbtqUrO5wtZt",
        "outputId": "7f210c0b-d769-4266-e7e2-3a60f3ffbacd"
      },
      "id": "LbtqUrO5wtZt",
      "execution_count": null,
      "outputs": [
        {
          "output_type": "execute_result",
          "data": {
            "text/plain": [
              "array([7, 2, 3, 7, 2, 1, 4, 4, 5, 0, 7, 0, 8, 6, 3, 0, 2, 4, 1, 6, 9, 9,\n",
              "       5, 2, 5, 2, 7, 3, 1, 2, 2, 9, 0, 0, 3, 3, 2, 6, 2, 2, 5, 9, 0, 4,\n",
              "       9, 9, 1, 1, 6, 3, 0, 9, 2, 2, 0, 3, 4, 5, 2, 8, 5, 2, 0, 7, 0, 1,\n",
              "       3, 4, 1, 0, 8, 4, 6, 4, 4, 6, 8, 2, 6, 8, 6, 3, 8, 5, 2, 5, 8, 4,\n",
              "       4, 6, 0, 6, 2, 4, 4, 0, 5, 3, 2, 1, 7, 1, 8, 2, 2, 1, 3, 0, 1, 5,\n",
              "       3, 3, 7, 6, 4, 6, 7, 9, 6, 9, 6, 7, 7, 8, 9, 7, 4, 3, 7, 1, 9, 4,\n",
              "       8, 9, 1, 5, 4, 2, 7, 9, 2, 9, 0, 8, 4, 8, 3, 6, 7, 9, 4, 3, 9, 7,\n",
              "       1, 4, 6, 3, 7, 9, 2, 1, 8, 3, 4, 0, 8, 1, 3, 5, 8, 6, 4, 1, 1, 0,\n",
              "       6, 0, 7, 0, 6, 4, 5, 5, 9, 5, 6, 6, 1, 8, 7, 8, 8, 3, 9, 7, 8, 8,\n",
              "       7, 3, 4, 8, 3, 8, 0, 1, 5, 7, 6, 4, 9, 3, 7, 4, 4, 5, 8, 0, 1, 0,\n",
              "       5, 0, 6, 6, 5, 9, 3, 9, 9, 9, 0, 0, 2, 5, 9, 5, 0, 9, 2, 1, 3, 9,\n",
              "       7, 8, 9, 5, 0, 5, 3, 5, 6, 4, 5, 1, 9, 7, 1, 1, 7, 7, 8, 5, 3, 8,\n",
              "       6, 1, 7, 0, 6, 6, 4, 2, 8, 8, 4, 5, 7, 6, 5, 8, 5, 5, 1, 1, 2, 1,\n",
              "       2, 6, 1, 0, 8, 3])"
            ]
          },
          "metadata": {},
          "execution_count": 194
        }
      ]
    },
    {
      "cell_type": "code",
      "execution_count": null,
      "id": "5e770f13-5f4e-449d-b6da-e76fcba10685",
      "metadata": {
        "id": "5e770f13-5f4e-449d-b6da-e76fcba10685"
      },
      "outputs": [],
      "source": [
        "tags_id=np.array(tags_id)"
      ]
    },
    {
      "cell_type": "code",
      "execution_count": null,
      "id": "3a258298-17ff-4014-82ca-8fae23a3eeaf",
      "metadata": {
        "colab": {
          "base_uri": "https://localhost:8080/"
        },
        "id": "3a258298-17ff-4014-82ca-8fae23a3eeaf",
        "outputId": "2d9bf4db-dbe8-4f86-9e28-8959442e0f27"
      },
      "outputs": [
        {
          "output_type": "execute_result",
          "data": {
            "text/plain": [
              "['傘',\n",
              " 'エヴァ',\n",
              " 'ジョジョの奇妙な冒険',\n",
              " '傘',\n",
              " 'エヴァ',\n",
              " 'けものフレンズ',\n",
              " 'ドラゴン',\n",
              " 'ドラゴン',\n",
              " 'ミクの日',\n",
              " 'cat',\n",
              " '傘',\n",
              " 'cat',\n",
              " '女子高生',\n",
              " '人魚',\n",
              " 'ジョジョの奇妙な冒険',\n",
              " 'cat',\n",
              " 'エヴァ',\n",
              " 'ドラゴン',\n",
              " 'けものフレンズ',\n",
              " '人魚']"
            ]
          },
          "metadata": {},
          "execution_count": 196
        }
      ],
      "source": [
        "tags[:20]"
      ]
    },
    {
      "cell_type": "code",
      "execution_count": null,
      "id": "5db115bc-5704-454f-a873-703a43fcf0f6",
      "metadata": {
        "colab": {
          "base_uri": "https://localhost:8080/"
        },
        "id": "5db115bc-5704-454f-a873-703a43fcf0f6",
        "outputId": "270cdd02-cc18-4df4-e5f3-acb6e96b6708"
      },
      "outputs": [
        {
          "output_type": "execute_result",
          "data": {
            "text/plain": [
              "array([7, 2, 3, 7, 2, 1, 4, 4, 5, 0, 7, 0, 8, 6, 3, 0, 2, 4, 1, 6])"
            ]
          },
          "metadata": {},
          "execution_count": 197
        }
      ],
      "source": [
        "tags_id[:20]"
      ]
    },
    {
      "cell_type": "markdown",
      "id": "0e522894-9ca4-453d-801e-ad798b8e4b1f",
      "metadata": {
        "id": "0e522894-9ca4-453d-801e-ad798b8e4b1f"
      },
      "source": [
        "# データセット"
      ]
    },
    {
      "cell_type": "code",
      "source": [
        "from tensorflow.keras.utils import to_categorical\n",
        "from tensorflow.keras.callbacks import ReduceLROnPlateau,EarlyStopping\n",
        "import datetime\n",
        "\n",
        "from tensorflow.keras.preprocessing.image import ImageDataGenerator\n",
        "from sklearn.model_selection import train_test_split\n",
        "# import tensorflow_addons as tfa"
      ],
      "metadata": {
        "id": "PKyhDLBzoMOT"
      },
      "execution_count": null,
      "outputs": [],
      "id": "PKyhDLBzoMOT"
    },
    {
      "cell_type": "code",
      "source": [
        "import random\n",
        "def reset_seed(seed=0):\n",
        "  random.seed(seed)\n",
        "  np.random.seed(seed)\n",
        "  tf.random.set_seed(seed)"
      ],
      "metadata": {
        "id": "yBNVDbzUoMOe"
      },
      "execution_count": null,
      "outputs": [],
      "id": "yBNVDbzUoMOe"
    },
    {
      "cell_type": "code",
      "source": [
        "# 変数定義\n",
        "image_size = 224 \n",
        "input_shape=(image_size,image_size,3)\n",
        "num_classes = len(set(tags)"
      ],
      "metadata": {
        "id": "15L-tfO6zgll"
      },
      "id": "15L-tfO6zgll",
      "execution_count": null,
      "outputs": []
    },
    {
      "cell_type": "code",
      "source": [
        "# X_train,y_train=image.reshape(-1, 224, 224, 3),np.array([0])\n",
        "# X_test,y_test=image.reshape(-1, 224, 224, 3),np.array([0])\n",
        "X_train,X_test,y_train,y_test=train_test_split(imgs,tags_id,test_size=0.2,random_state=123,shuffle=True,stratify=tags)\n",
        "X_train,y_train,X_test,y_test=np.array(X_train,dtype=\"float32\"),np.array(y_train),np.array(X_test,dtype=\"float32\"),np.array(y_test)\n",
        "X_train, X_test = X_train/255.0, X_test/255.0"
      ],
      "metadata": {
        "id": "Dsfm5kuK0O6G"
      },
      "id": "Dsfm5kuK0O6G",
      "execution_count": null,
      "outputs": []
    },
    {
      "cell_type": "code",
      "source": [
        "X_train.shape,y_train.shape,X_test.shape,y_test.shape"
      ],
      "metadata": {
        "id": "jhJ-tmj30Q0f"
      },
      "id": "jhJ-tmj30Q0f",
      "execution_count": null,
      "outputs": []
    },
    {
      "cell_type": "markdown",
      "source": [
        "# モデル"
      ],
      "metadata": {
        "id": "irkOTjr2zrC8"
      },
      "id": "irkOTjr2zrC8"
    },
    {
      "cell_type": "markdown",
      "id": "ef592311-c26f-4606-bcd2-f85b0931f631",
      "metadata": {
        "id": "ef592311-c26f-4606-bcd2-f85b0931f631"
      },
      "source": [
        "# 学習"
      ]
    },
    {
      "cell_type": "code",
      "execution_count": null,
      "id": "d939f6bb-e3b7-488b-9e2c-16b6766553ec",
      "metadata": {
        "tags": [],
        "id": "d939f6bb-e3b7-488b-9e2c-16b6766553ec",
        "outputId": "d25404f0-0755-47eb-898f-5d64c436da4f"
      },
      "outputs": [
        {
          "name": "stdout",
          "output_type": "stream",
          "text": [
            "Epoch 1/10\n",
            "8/8 [==============================] - 27s 2s/step - loss: 3.2208 - accuracy: 0.1030 - val_loss: 508181.0938 - val_accuracy: 0.1017\n",
            "Epoch 2/10\n",
            "8/8 [==============================] - 16s 2s/step - loss: 2.4653 - accuracy: 0.1545 - val_loss: 98660.4609 - val_accuracy: 0.1186\n",
            "Epoch 3/10\n",
            "8/8 [==============================] - 16s 2s/step - loss: 2.1511 - accuracy: 0.2489 - val_loss: 8919.3750 - val_accuracy: 0.0847\n",
            "Epoch 4/10\n",
            "8/8 [==============================] - 15s 2s/step - loss: 2.2138 - accuracy: 0.1974 - val_loss: 1728.2582 - val_accuracy: 0.1017\n",
            "Epoch 5/10\n",
            "8/8 [==============================] - 15s 2s/step - loss: 2.0162 - accuracy: 0.3090 - val_loss: 4466.6650 - val_accuracy: 0.1017\n",
            "Epoch 6/10\n",
            "8/8 [==============================] - 15s 2s/step - loss: 1.8621 - accuracy: 0.3348 - val_loss: 12475.0957 - val_accuracy: 0.1356\n",
            "Epoch 7/10\n",
            "8/8 [==============================] - 15s 2s/step - loss: 1.9200 - accuracy: 0.3562 - val_loss: 801.1633 - val_accuracy: 0.0847\n",
            "Epoch 8/10\n",
            "8/8 [==============================] - 15s 2s/step - loss: 1.6630 - accuracy: 0.4421 - val_loss: 13635.6641 - val_accuracy: 0.1017\n",
            "Epoch 9/10\n",
            "8/8 [==============================] - 15s 2s/step - loss: 1.6328 - accuracy: 0.4120 - val_loss: 879.1884 - val_accuracy: 0.1017\n",
            "Epoch 10/10\n",
            "8/8 [==============================] - 15s 2s/step - loss: 1.4451 - accuracy: 0.4807 - val_loss: 224355.6875 - val_accuracy: 0.1017\n"
          ]
        }
      ],
      "source": [
        "history=finetuned_model.fit(X_train,y_train,batch_size=batch_size,epochs=epochs,verbose=1,validation_data=(X_test,y_test))"
      ]
    },
    {
      "cell_type": "code",
      "execution_count": null,
      "id": "54ecd9d7-41ae-49c3-b520-dff079535d90",
      "metadata": {
        "id": "54ecd9d7-41ae-49c3-b520-dff079535d90"
      },
      "outputs": [],
      "source": [
        "X_test.shape"
      ]
    },
    {
      "cell_type": "code",
      "execution_count": null,
      "id": "b2532c0d-beac-47b0-a56f-2d81e6cfcc85",
      "metadata": {
        "id": "b2532c0d-beac-47b0-a56f-2d81e6cfcc85"
      },
      "outputs": [],
      "source": [
        "type(X_test[0])"
      ]
    },
    {
      "cell_type": "code",
      "execution_count": null,
      "id": "7d938ef8-8dbe-417f-a442-6d33fdb8ed7d",
      "metadata": {
        "tags": [],
        "id": "7d938ef8-8dbe-417f-a442-6d33fdb8ed7d"
      },
      "outputs": [],
      "source": [
        "pil_img=Image.fromarray(X_test[0])"
      ]
    },
    {
      "cell_type": "code",
      "execution_count": null,
      "id": "c64f6902-24cb-4c34-b7ba-57862654cebf",
      "metadata": {
        "tags": [],
        "id": "c64f6902-24cb-4c34-b7ba-57862654cebf"
      },
      "outputs": [],
      "source": [
        "predictions=finetuned_model.predict(X_test[:20])\n",
        "# predictions\n",
        "[np.argmax(p) for p in predictions[:50]]"
      ]
    },
    {
      "cell_type": "code",
      "execution_count": null,
      "id": "0bce1e26-c9f9-46a3-93fb-630655087fcf",
      "metadata": {
        "id": "0bce1e26-c9f9-46a3-93fb-630655087fcf"
      },
      "outputs": [],
      "source": [
        "y_test[0]"
      ]
    },
    {
      "cell_type": "code",
      "execution_count": null,
      "id": "9ea41189-966a-464b-8e37-dcca23a0f542",
      "metadata": {
        "tags": [],
        "id": "9ea41189-966a-464b-8e37-dcca23a0f542"
      },
      "outputs": [],
      "source": [
        "X_train[0]"
      ]
    },
    {
      "cell_type": "code",
      "execution_count": null,
      "id": "ecc1803f-f30e-49f2-8ca6-ecdb5b2daf3f",
      "metadata": {
        "id": "ecc1803f-f30e-49f2-8ca6-ecdb5b2daf3f"
      },
      "outputs": [],
      "source": [
        "y_train"
      ]
    },
    {
      "cell_type": "code",
      "execution_count": null,
      "id": "6ac7f41e-5519-4811-8153-447e8ec3a5bb",
      "metadata": {
        "tags": [],
        "id": "6ac7f41e-5519-4811-8153-447e8ec3a5bb"
      },
      "outputs": [],
      "source": [
        "X_test[0]"
      ]
    },
    {
      "cell_type": "code",
      "execution_count": null,
      "id": "bae7b51c-4720-4932-84f8-8b8894cadf4e",
      "metadata": {
        "tags": [],
        "id": "bae7b51c-4720-4932-84f8-8b8894cadf4e"
      },
      "outputs": [],
      "source": [
        "y_test"
      ]
    },
    {
      "cell_type": "code",
      "execution_count": null,
      "id": "b2014c9d-3cf1-475b-9c7a-c760a6801f47",
      "metadata": {
        "id": "b2014c9d-3cf1-475b-9c7a-c760a6801f47"
      },
      "outputs": [],
      "source": [
        "results=pd.DataFrame(history.history)\n",
        "results.tail(5)"
      ]
    },
    {
      "cell_type": "code",
      "execution_count": null,
      "id": "e0ecc2fe-a21f-4215-bac6-0bf397c4199c",
      "metadata": {
        "id": "e0ecc2fe-a21f-4215-bac6-0bf397c4199c"
      },
      "outputs": [],
      "source": [
        "results[[\"loss\",\"val_loss\"]].plot(title=\"loss\")\n",
        "plt.xlabel(\"epochs\")"
      ]
    },
    {
      "cell_type": "code",
      "execution_count": null,
      "id": "0ece0db2-2664-422b-8549-5835fd6d69f9",
      "metadata": {
        "id": "0ece0db2-2664-422b-8549-5835fd6d69f9"
      },
      "outputs": [],
      "source": [
        "results[[\"accuracy\",\"val_accuracy\"]].plot(title=\"accuracy\")\n",
        "plt.xlabel(\"epochs\")"
      ]
    },
    {
      "cell_type": "code",
      "execution_count": null,
      "id": "aca1d880-ff71-4ca6-a1ef-5f76557bfdb1",
      "metadata": {
        "id": "aca1d880-ff71-4ca6-a1ef-5f76557bfdb1"
      },
      "outputs": [],
      "source": [
        "finetuned_model.summary()"
      ]
    },
    {
      "cell_type": "code",
      "execution_count": null,
      "id": "c92d9464-ebd8-4fec-92e4-d0de5ea940b7",
      "metadata": {
        "id": "c92d9464-ebd8-4fec-92e4-d0de5ea940b7"
      },
      "outputs": [],
      "source": [
        ""
      ]
    },
    {
      "cell_type": "markdown",
      "id": "491ffd2b-8d3b-4387-ac59-828caaf819b3",
      "metadata": {
        "id": "491ffd2b-8d3b-4387-ac59-828caaf819b3"
      },
      "source": [
        "# オープンデータ、VGGモデルと比較してどこが悪いのか検証"
      ]
    },
    {
      "cell_type": "code",
      "source": [
        "from tensorflow.keras.utils import to_categorical\n",
        "from tensorflow.keras.callbacks import ReduceLROnPlateau,EarlyStopping\n",
        "import datetime\n",
        "\n",
        "from tensorflow.keras.preprocessing.image import ImageDataGenerator\n",
        "from sklearn.model_selection import train_test_split\n",
        "# import tensorflow_addons as tfa"
      ],
      "metadata": {
        "id": "QkrlY7FEtt22"
      },
      "id": "QkrlY7FEtt22",
      "execution_count": null,
      "outputs": []
    },
    {
      "cell_type": "code",
      "source": [
        "import random\n",
        "def reset_seed(seed=0):\n",
        "  random.seed(seed)\n",
        "  np.random.seed(seed)\n",
        "  tf.random.set_seed(seed)"
      ],
      "metadata": {
        "id": "OPnTSY9r5O2N"
      },
      "id": "OPnTSY9r5O2N",
      "execution_count": null,
      "outputs": []
    },
    {
      "cell_type": "code",
      "source": [
        "reset_seed()"
      ],
      "metadata": {
        "id": "_t9N4HdfV-GH"
      },
      "id": "_t9N4HdfV-GH",
      "execution_count": null,
      "outputs": []
    },
    {
      "cell_type": "code",
      "source": [
        "# 変数定義\n",
        "image_size = 32   #画像のサイズ（CIFAR-10は32×32）\n",
        "# image_size = 224 \n",
        "input_shape=(image_size,image_size,3)\n",
        "num_classes = 10 #画像の種類の数（CIFAR-10は10種類）\n",
        "# num_classes = len(set(tags)"
      ],
      "metadata": {
        "id": "PI0T6rZ-NkWz"
      },
      "id": "PI0T6rZ-NkWz",
      "execution_count": null,
      "outputs": []
    },
    {
      "cell_type": "code",
      "source": [
        "# CIFAR-10のインポート\n",
        "train,test = tf.keras.datasets.cifar10.load_data()"
      ],
      "metadata": {
        "id": "h6MPIoLFsWb4"
      },
      "id": "h6MPIoLFsWb4",
      "execution_count": null,
      "outputs": []
    },
    {
      "cell_type": "code",
      "source": [
        "(X_train, y_train), (X_test, y_test)=train,test"
      ],
      "metadata": {
        "id": "tuKTWMl8LOzZ"
      },
      "id": "tuKTWMl8LOzZ",
      "execution_count": null,
      "outputs": []
    },
    {
      "cell_type": "code",
      "source": [
        "from tensorflow.keras.applications.efficientnet import center_crop_and_resize, preprocess_input"
      ],
      "metadata": {
        "colab": {
          "base_uri": "https://localhost:8080/",
          "height": 369
        },
        "id": "1KhGd4w6jcUr",
        "outputId": "fed7d0cf-f5c8-410d-ce15-e07b816ac3bc"
      },
      "id": "1KhGd4w6jcUr",
      "execution_count": null,
      "outputs": [
        {
          "output_type": "error",
          "ename": "ImportError",
          "evalue": "ignored",
          "traceback": [
            "\u001b[0;31m---------------------------------------------------------------------------\u001b[0m",
            "\u001b[0;31mImportError\u001b[0m                               Traceback (most recent call last)",
            "\u001b[0;32m<ipython-input-96-45443ae58036>\u001b[0m in \u001b[0;36m<module>\u001b[0;34m()\u001b[0m\n\u001b[0;32m----> 1\u001b[0;31m \u001b[0;32mfrom\u001b[0m \u001b[0mtensorflow\u001b[0m\u001b[0;34m.\u001b[0m\u001b[0mkeras\u001b[0m\u001b[0;34m.\u001b[0m\u001b[0mapplications\u001b[0m\u001b[0;34m.\u001b[0m\u001b[0mefficientnet\u001b[0m \u001b[0;32mimport\u001b[0m \u001b[0mcenter_crop_and_resize\u001b[0m\u001b[0;34m,\u001b[0m \u001b[0mpreprocess_input\u001b[0m\u001b[0;34m\u001b[0m\u001b[0;34m\u001b[0m\u001b[0m\n\u001b[0m",
            "\u001b[0;31mImportError\u001b[0m: cannot import name 'center_crop_and_resize' from 'tensorflow.keras.applications.efficientnet' (/usr/local/lib/python3.7/dist-packages/keras/api/_v2/keras/applications/efficientnet/__init__.py)",
            "",
            "\u001b[0;31m---------------------------------------------------------------------------\u001b[0;32m\nNOTE: If your import is failing due to a missing package, you can\nmanually install dependencies using either !pip or !apt.\n\nTo view examples of installing some common dependencies, click the\n\"Open Examples\" button below.\n\u001b[0;31m---------------------------------------------------------------------------\u001b[0m\n"
          ],
          "errorDetails": {
            "actions": [
              {
                "action": "open_url",
                "actionText": "Open Examples",
                "url": "/notebooks/snippets/importing_libraries.ipynb"
              }
            ]
          }
        }
      ]
    },
    {
      "cell_type": "code",
      "source": [
        "# from tensorflow.keras import center_crop_and_resize"
      ],
      "metadata": {
        "colab": {
          "base_uri": "https://localhost:8080/",
          "height": 351
        },
        "id": "4czKulyGnImT",
        "outputId": "c819f9a0-87c9-4862-b7ee-8d00dce9c98b"
      },
      "id": "4czKulyGnImT",
      "execution_count": null,
      "outputs": [
        {
          "output_type": "error",
          "ename": "ImportError",
          "evalue": "ignored",
          "traceback": [
            "\u001b[0;31m---------------------------------------------------------------------------\u001b[0m",
            "\u001b[0;31mImportError\u001b[0m                               Traceback (most recent call last)",
            "\u001b[0;32m<ipython-input-99-2ab1758d35d3>\u001b[0m in \u001b[0;36m<module>\u001b[0;34m()\u001b[0m\n\u001b[1;32m      1\u001b[0m \u001b[0;31m# from efficientnet.keras import center_crop_and_resize\u001b[0m\u001b[0;34m\u001b[0m\u001b[0;34m\u001b[0m\u001b[0;34m\u001b[0m\u001b[0m\n\u001b[0;32m----> 2\u001b[0;31m \u001b[0;32mfrom\u001b[0m \u001b[0mtensorflow\u001b[0m\u001b[0;34m.\u001b[0m\u001b[0mkeras\u001b[0m \u001b[0;32mimport\u001b[0m \u001b[0mcenter_crop_and_resize\u001b[0m\u001b[0;34m\u001b[0m\u001b[0;34m\u001b[0m\u001b[0m\n\u001b[0m",
            "\u001b[0;31mImportError\u001b[0m: cannot import name 'center_crop_and_resize' from 'tensorflow.keras' (/usr/local/lib/python3.7/dist-packages/keras/api/_v2/keras/__init__.py)",
            "",
            "\u001b[0;31m---------------------------------------------------------------------------\u001b[0;32m\nNOTE: If your import is failing due to a missing package, you can\nmanually install dependencies using either !pip or !apt.\n\nTo view examples of installing some common dependencies, click the\n\"Open Examples\" button below.\n\u001b[0;31m---------------------------------------------------------------------------\u001b[0m\n"
          ],
          "errorDetails": {
            "actions": [
              {
                "action": "open_url",
                "actionText": "Open Examples",
                "url": "/notebooks/snippets/importing_libraries.ipynb"
              }
            ]
          }
        }
      ]
    },
    {
      "cell_type": "code",
      "source": [
        "# # RAMクラッシュ防止のため少なめに設定\n",
        "train_choice=np.random.randint(low=0,high=50000,size=3000)\n",
        "test_choice=np.random.randint(low=0,high=10000,size=500)\n",
        "X_train,y_train=X_train[train_choice],y_train[train_choice].astype(\"int8\")\n",
        "X_test,y_test=X_test[test_choice],y_test[test_choice].astype(\"int8\")\n",
        "X_train = tf.keras.applications.efficientnet.preprocess_input(X_train)\n",
        "X_test = tf.keras.applications.efficientnet.preprocess_input(X_test)"
      ],
      "metadata": {
        "id": "APP6h8k1xGOs"
      },
      "id": "APP6h8k1xGOs",
      "execution_count": null,
      "outputs": []
    },
    {
      "cell_type": "code",
      "source": [
        "# モデル定義\n",
        "## Efficientnetモデルの定義（ファインチューニング）\n",
        "# from tensorflow.keras.applications import resnet,VGG16\n",
        "def buildModel():\n",
        "  reset_seed(0)\n",
        "  # base_model=VGG16(INPUT_SHAPE = input_shape ,include_top=False,weights=\"imagenet\")\n",
        "  base_model=tf.keras.applications.EfficientNetB0(input_shape=input_shape, include_top=False, weights=\"gumigumi4f_illust2vec_models_50epoch_b0_illust2vec_efficientnetb0_notop.h5\")\n",
        "  # base_model=tf.keras.applications.EfficientNetB0(include_top=False, weights='imagenet', input_shape=input_shape)\n",
        "\n",
        "  model = models.Sequential([\n",
        "    base_model,\n",
        "    layers.GlobalAveragePooling2D(),\n",
        "    layers.Dense(num_classes, activation=\"softmax\")\n",
        "  ])\n",
        "\n",
        "  # optimizer=tf.keras.optimizers.SGD(lr=0.01)\n",
        "  # optimizer=tf.keras.optimizers.Adam(learning_rate=5e-6)\n",
        "  # optimizer=tf.keras.optimizers.SGD(lr=1e-6,momentum=0.9)\n",
        "  optimizer=tf.keras.optimizers.Adam(learning_rate=1e-4)\n",
        "\n",
        "  model.compile(optimizer=optimizer, loss=\"categorical_crossentropy\", metrics=[\"accuracy\"])\n",
        "  return model"
      ],
      "metadata": {
        "id": "NzyYrHGNl5Ez"
      },
      "id": "NzyYrHGNl5Ez",
      "execution_count": null,
      "outputs": []
    },
    {
      "cell_type": "code",
      "source": [
        "# 訓練用関数の定義\n",
        "## efficientnet用訓練関数\n",
        "# def train_efficientnet(X, y, steps_per_epoch, epochs, batch_size, callbacks):\n",
        "def train_efficientnet(X, y, epochs, batch_size, callbacks):\n",
        "    # 訓練データと評価データの分割\n",
        "    x_train, x_valid, Y_train, Y_valid = train_test_split(X, y, test_size=0.2, stratify=y, shuffle=True)\n",
        "    Y_train = to_categorical(Y_train)\n",
        "    Y_valid = to_categorical(Y_valid)\n",
        "\n",
        "    # Data Augmentation\n",
        "    # datagen = ImageDataGenerator(rotation_range=20, horizontal_flip=True, width_shift_range=0.2, zoom_range=0.2)\n",
        "    # train_generator = datagen.flow(X_train, y_train,batch_size=batch_size)\n",
        "\n",
        "    # モデル構築\n",
        "    model = buildModel()\n",
        "\n",
        "    # 学習\n",
        "    history = model.fit(\n",
        "                        x_train, Y_train,\n",
        "                        # train_generator,\n",
        "                        validation_data=(x_valid, Y_valid),\n",
        "                        batch_size=batch_size,\n",
        "                        # steps_per_epoch=steps_per_epoch,\n",
        "                        epochs=epochs,\n",
        "                        callbacks=callbacks,\n",
        "                        shuffle=True\n",
        "                       )\n",
        "    return model, history"
      ],
      "metadata": {
        "id": "B-ZjWvC0sQXv"
      },
      "id": "B-ZjWvC0sQXv",
      "execution_count": null,
      "outputs": []
    },
    {
      "cell_type": "code",
      "source": [
        "# 訓練開始\n",
        "# steps_per_epoch = 1250\n",
        "epochs = 1000\n",
        "batch_size = 32\n",
        "\n",
        "reduce_lr = ReduceLROnPlateau(monitor='val_accuracy',factor=0.2,patience=2,verbose=1,min_delta=1e-4,min_lr=1e-6,mode='max')\n",
        "earlystopping = EarlyStopping(monitor='val_accuracy', min_delta=1e-4, patience=5, mode='max', verbose=1)\n",
        "callbacks = [earlystopping, reduce_lr]\n",
        "\n",
        "print('開始時間：',datetime.datetime.now())\n",
        "\n",
        "# model, history = train_efficientnet(x_train, y_train, steps_per_epoch, epochs, batch_size, callbacks)\n",
        "finetuned_model, history = train_efficientnet(X_train, y_train, epochs, batch_size, callbacks)\n",
        "# finetuned_model, history = train_efficientnet(X1_train, y_train, epochs, batch_size, callbacks)\n",
        "# finetuned_model, history = train_efficientnet(X2_train, y_train, epochs, batch_size, callbacks)\n",
        "# model, history = train_efficientnet(x_train, y_train, epochs, batch_size, callbacks)\n",
        "\n",
        "print('終了時間：',datetime.datetime.now())"
      ],
      "metadata": {
        "colab": {
          "base_uri": "https://localhost:8080/"
        },
        "id": "E3MkNom7sJc7",
        "outputId": "2796e0a9-88f2-4b0d-bd13-a68c46a21d7f"
      },
      "id": "E3MkNom7sJc7",
      "execution_count": null,
      "outputs": [
        {
          "output_type": "stream",
          "name": "stdout",
          "text": [
            "開始時間： 2022-03-29 03:10:19.355733\n",
            "Epoch 1/1000\n",
            "75/75 [==============================] - 17s 85ms/step - loss: 2.4417 - accuracy: 0.1317 - val_loss: 2.2450 - val_accuracy: 0.1717 - lr: 1.0000e-04\n",
            "Epoch 2/1000\n",
            "75/75 [==============================] - 4s 59ms/step - loss: 2.1969 - accuracy: 0.2237 - val_loss: 2.0909 - val_accuracy: 0.1783 - lr: 1.0000e-04\n",
            "Epoch 3/1000\n",
            "75/75 [==============================] - 4s 56ms/step - loss: 2.0089 - accuracy: 0.2942 - val_loss: 1.9483 - val_accuracy: 0.3000 - lr: 1.0000e-04\n",
            "Epoch 4/1000\n",
            "75/75 [==============================] - 4s 58ms/step - loss: 1.8331 - accuracy: 0.3671 - val_loss: 1.8470 - val_accuracy: 0.3567 - lr: 1.0000e-04\n",
            "Epoch 5/1000\n",
            "75/75 [==============================] - 5s 62ms/step - loss: 1.6681 - accuracy: 0.4371 - val_loss: 1.7517 - val_accuracy: 0.4217 - lr: 1.0000e-04\n",
            "Epoch 6/1000\n",
            "75/75 [==============================] - 4s 58ms/step - loss: 1.5652 - accuracy: 0.4767 - val_loss: 1.6978 - val_accuracy: 0.4517 - lr: 1.0000e-04\n",
            "Epoch 7/1000\n",
            "75/75 [==============================] - 4s 58ms/step - loss: 1.4496 - accuracy: 0.5121 - val_loss: 1.6444 - val_accuracy: 0.4567 - lr: 1.0000e-04\n",
            "Epoch 8/1000\n",
            "75/75 [==============================] - 4s 58ms/step - loss: 1.3833 - accuracy: 0.5408 - val_loss: 1.5832 - val_accuracy: 0.4833 - lr: 1.0000e-04\n",
            "Epoch 9/1000\n",
            "75/75 [==============================] - 4s 56ms/step - loss: 1.2820 - accuracy: 0.5654 - val_loss: 1.5461 - val_accuracy: 0.4950 - lr: 1.0000e-04\n",
            "Epoch 10/1000\n",
            "75/75 [==============================] - 4s 60ms/step - loss: 1.1882 - accuracy: 0.6083 - val_loss: 1.4929 - val_accuracy: 0.5150 - lr: 1.0000e-04\n",
            "Epoch 11/1000\n",
            "75/75 [==============================] - 4s 57ms/step - loss: 1.1361 - accuracy: 0.6212 - val_loss: 1.4418 - val_accuracy: 0.5233 - lr: 1.0000e-04\n",
            "Epoch 12/1000\n",
            "75/75 [==============================] - 4s 57ms/step - loss: 1.0721 - accuracy: 0.6442 - val_loss: 1.4192 - val_accuracy: 0.5267 - lr: 1.0000e-04\n",
            "Epoch 13/1000\n",
            "75/75 [==============================] - 4s 55ms/step - loss: 0.9957 - accuracy: 0.6804 - val_loss: 1.3744 - val_accuracy: 0.5550 - lr: 1.0000e-04\n",
            "Epoch 14/1000\n",
            "75/75 [==============================] - 6s 75ms/step - loss: 0.9649 - accuracy: 0.6817 - val_loss: 1.3624 - val_accuracy: 0.5633 - lr: 1.0000e-04\n",
            "Epoch 15/1000\n",
            "75/75 [==============================] - 5s 61ms/step - loss: 0.9213 - accuracy: 0.6950 - val_loss: 1.3337 - val_accuracy: 0.5700 - lr: 1.0000e-04\n",
            "Epoch 16/1000\n",
            "75/75 [==============================] - 4s 60ms/step - loss: 0.8732 - accuracy: 0.7200 - val_loss: 1.3224 - val_accuracy: 0.5683 - lr: 1.0000e-04\n",
            "Epoch 17/1000\n",
            "75/75 [==============================] - 4s 60ms/step - loss: 0.8193 - accuracy: 0.7304 - val_loss: 1.2953 - val_accuracy: 0.5883 - lr: 1.0000e-04\n",
            "Epoch 18/1000\n",
            "75/75 [==============================] - 4s 56ms/step - loss: 0.7794 - accuracy: 0.7533 - val_loss: 1.2935 - val_accuracy: 0.5867 - lr: 1.0000e-04\n",
            "Epoch 19/1000\n",
            "75/75 [==============================] - 5s 61ms/step - loss: 0.7406 - accuracy: 0.7638 - val_loss: 1.2676 - val_accuracy: 0.5933 - lr: 1.0000e-04\n",
            "Epoch 20/1000\n",
            "75/75 [==============================] - 4s 56ms/step - loss: 0.6841 - accuracy: 0.7779 - val_loss: 1.2644 - val_accuracy: 0.5933 - lr: 1.0000e-04\n",
            "Epoch 21/1000\n",
            "75/75 [==============================] - ETA: 0s - loss: 0.6596 - accuracy: 0.7846\n",
            "Epoch 21: ReduceLROnPlateau reducing learning rate to 1.9999999494757503e-05.\n",
            "75/75 [==============================] - 4s 59ms/step - loss: 0.6596 - accuracy: 0.7846 - val_loss: 1.2692 - val_accuracy: 0.5917 - lr: 1.0000e-04\n",
            "Epoch 22/1000\n",
            "75/75 [==============================] - 5s 63ms/step - loss: 0.6280 - accuracy: 0.8025 - val_loss: 1.2656 - val_accuracy: 0.5983 - lr: 2.0000e-05\n",
            "Epoch 23/1000\n",
            "75/75 [==============================] - 4s 58ms/step - loss: 0.6181 - accuracy: 0.7975 - val_loss: 1.2601 - val_accuracy: 0.5983 - lr: 2.0000e-05\n",
            "Epoch 24/1000\n",
            "75/75 [==============================] - 4s 57ms/step - loss: 0.6059 - accuracy: 0.8062 - val_loss: 1.2544 - val_accuracy: 0.6017 - lr: 2.0000e-05\n",
            "Epoch 25/1000\n",
            "75/75 [==============================] - 4s 60ms/step - loss: 0.6092 - accuracy: 0.8104 - val_loss: 1.2571 - val_accuracy: 0.6050 - lr: 2.0000e-05\n",
            "Epoch 26/1000\n",
            "75/75 [==============================] - 4s 57ms/step - loss: 0.6115 - accuracy: 0.8117 - val_loss: 1.2481 - val_accuracy: 0.6033 - lr: 2.0000e-05\n",
            "Epoch 27/1000\n",
            "75/75 [==============================] - 4s 57ms/step - loss: 0.5906 - accuracy: 0.8112 - val_loss: 1.2460 - val_accuracy: 0.6217 - lr: 2.0000e-05\n",
            "Epoch 28/1000\n",
            "75/75 [==============================] - 4s 60ms/step - loss: 0.5908 - accuracy: 0.8171 - val_loss: 1.2457 - val_accuracy: 0.6167 - lr: 2.0000e-05\n",
            "Epoch 29/1000\n",
            "75/75 [==============================] - ETA: 0s - loss: 0.5505 - accuracy: 0.8221\n",
            "Epoch 29: ReduceLROnPlateau reducing learning rate to 3.999999898951501e-06.\n",
            "75/75 [==============================] - 4s 56ms/step - loss: 0.5505 - accuracy: 0.8221 - val_loss: 1.2476 - val_accuracy: 0.6133 - lr: 2.0000e-05\n",
            "Epoch 30/1000\n",
            "75/75 [==============================] - 4s 59ms/step - loss: 0.5587 - accuracy: 0.8308 - val_loss: 1.2478 - val_accuracy: 0.6167 - lr: 4.0000e-06\n",
            "Epoch 31/1000\n",
            "75/75 [==============================] - ETA: 0s - loss: 0.5765 - accuracy: 0.8242\n",
            "Epoch 31: ReduceLROnPlateau reducing learning rate to 1e-06.\n",
            "75/75 [==============================] - 5s 63ms/step - loss: 0.5765 - accuracy: 0.8242 - val_loss: 1.2515 - val_accuracy: 0.6083 - lr: 4.0000e-06\n",
            "Epoch 32/1000\n",
            "75/75 [==============================] - 5s 63ms/step - loss: 0.5664 - accuracy: 0.8254 - val_loss: 1.2518 - val_accuracy: 0.6133 - lr: 1.0000e-06\n",
            "Epoch 32: early stopping\n",
            "終了時間： 2022-03-29 03:12:56.485108\n"
          ]
        }
      ]
    },
    {
      "cell_type": "code",
      "execution_count": null,
      "id": "6de63827-4895-418a-acd0-b151c24cf700",
      "metadata": {
        "colab": {
          "base_uri": "https://localhost:8080/"
        },
        "id": "6de63827-4895-418a-acd0-b151c24cf700",
        "outputId": "6dac9e76-843d-485a-9e63-eabbb7a3ac48"
      },
      "outputs": [
        {
          "output_type": "stream",
          "name": "stdout",
          "text": [
            "16/16 [==============================] - 0s 27ms/step - loss: 1.3936 - accuracy: 0.5500\n"
          ]
        }
      ],
      "source": [
        "y_test = to_categorical(y_test)\n",
        "loss,accuracy=finetuned_model.evaluate(X_test,y_test)"
      ]
    },
    {
      "cell_type": "code",
      "execution_count": null,
      "id": "ae6d4bf9-b37d-48f9-aab3-5e59ea24e23d",
      "metadata": {
        "colab": {
          "base_uri": "https://localhost:8080/"
        },
        "id": "ae6d4bf9-b37d-48f9-aab3-5e59ea24e23d",
        "outputId": "2568b6d0-21f4-4fdd-cc30-d56cf9c52b84"
      },
      "outputs": [
        {
          "output_type": "stream",
          "name": "stdout",
          "text": [
            "loss:5.54,accuracy:0.10\n"
          ]
        }
      ],
      "source": [
        "print(f\"loss:{loss:.2f},accuracy:{accuracy:.2f}\")"
      ]
    }
  ],
  "metadata": {
    "environment": {
      "kernel": "python3",
      "name": "managed-notebooks.m90",
      "type": "gcloud",
      "uri": "gcr.io/deeplearning-platform-release/tf2-gpu:latest"
    },
    "kernelspec": {
      "display_name": "TensorFlow 2 (Local)",
      "language": "python",
      "name": "local-tf2"
    },
    "language_info": {
      "codemirror_mode": {
        "name": "ipython",
        "version": 3
      },
      "file_extension": ".py",
      "mimetype": "text/x-python",
      "name": "python",
      "nbconvert_exporter": "python",
      "pygments_lexer": "ipython3",
      "version": "3.7.12"
    },
    "colab": {
      "name": "finetuned_model.ipynb",
      "provenance": [],
      "collapsed_sections": [
        "76bcdb77-dd09-49f2-9e41-c1e6efe51ecb",
        "0e522894-9ca4-453d-801e-ad798b8e4b1f",
        "ef592311-c26f-4606-bcd2-f85b0931f631"
      ]
    },
    "accelerator": "GPU"
  },
  "nbformat": 4,
  "nbformat_minor": 5
}